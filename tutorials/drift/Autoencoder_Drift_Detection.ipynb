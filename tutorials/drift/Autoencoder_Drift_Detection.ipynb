{
 "cells": [
  {
   "cell_type": "markdown",
   "id": "analyzed-glass",
   "metadata": {},
   "source": [
    "# Drift detection using autoencoders\n",
    "\n",
    "In this tutorial we'll see how to leverage the `AutoEncoderDriftDetector` class available on mercury for detecting drift over time on our data.\n",
    "\n",
    "## 0. About this method\n",
    "\n",
    "Drift detection, more specifically **covariate shift**, is a setting in which we have a source dataset that comes from a certain joint distribution $\\mathcal{D}$ on which we train our models. Over time, the underlying distribution of the data can change (for example, during a pandemic lockdown, a certain feature representing \"restaurant spending\" will decrease). So, given a new batch of data (usually called target), could we detect whether the underlying distribution of the target sample coming from $\\mathcal{D}'$, remains the same as the source, that is $\\mathcal{D}=\\mathcal{D}'$?\n",
    "\n",
    "One method for tackling this is using **autoencoders**. We could train an autoencoder to reconstruct our source data and get how much error it makes. Later, we could use it for reconstructing our target dataset. In case the reconstruction error (for example, the *MSE*) remains similar to the one obtained on \"*source*\", we could assume the new batch of data is \"similar\" to the reference. Conversely, if the error is higher, that means the new batch of data does not resemble the reference, thus, coming from other distribution and warning us the new distribution may have changed.\n",
    "\n",
    "In order to have stronger warranties about whether there are differences between the source and target data autoencoder errors, we use an ensemble of autoencoders and perform a statistical test on the recorded errors each one of them make."
   ]
  },
  {
   "cell_type": "code",
   "execution_count": 1,
   "id": "legislative-finder",
   "metadata": {},
   "outputs": [],
   "source": [
    "import pandas as pd\n",
    "import numpy as np\n",
    "import matplotlib.pyplot as plt\n",
    "import seaborn as sns"
   ]
  },
  {
   "cell_type": "code",
   "execution_count": 2,
   "id": "beneficial-while",
   "metadata": {},
   "outputs": [],
   "source": [
    "from mercury.dataschema import DataSchema\n",
    "from mercury.dataschema.feature import FeatType\n",
    "\n",
    "from sklearn import preprocessing"
   ]
  },
  {
   "cell_type": "code",
   "execution_count": 3,
   "id": "6f251d79-8171-47af-b536-dd0c00fa3c44",
   "metadata": {},
   "outputs": [],
   "source": [
    "# Reproducibility\n",
    "np.random.seed(9999)"
   ]
  },
  {
   "cell_type": "code",
   "execution_count": 4,
   "id": "absolute-edward",
   "metadata": {},
   "outputs": [],
   "source": [
    "import matplotlib.pyplot as plt"
   ]
  },
  {
   "cell_type": "code",
   "execution_count": 5,
   "id": "insured-handle",
   "metadata": {},
   "outputs": [],
   "source": [
    "from mercury.monitoring.drift.auto_encoder_drift_detector import AutoEncoderDriftDetector"
   ]
  },
  {
   "cell_type": "markdown",
   "id": "innocent-citizenship",
   "metadata": {},
   "source": [
    "<a id=\"load_dataset\"></a>\n",
    "## 1. Load dataset and setup experiment\n",
    "\n",
    "We use the wine quality dataset [[1]](#[1]) dataset. The files of this dataset are available inside of the /data/winequality folder in tutorials and it is also available in the [UCI ML repository](https://archive.ics.uci.edu/ml/datasets/wine+quality) \n",
    "\n",
    "Each row of the dataset represents a different wine and it contains attributes like the acidity of the wine or the level of alcohol. The dataset also contains the quality of the wine, ranging from 0 to 10. \n"
   ]
  },
  {
   "cell_type": "code",
   "execution_count": 6,
   "id": "435db816",
   "metadata": {},
   "outputs": [],
   "source": [
    "df_red_wines = pd.read_csv(\"../data/winequality/winequality-red.csv\")\n",
    "df_white_wines = pd.read_csv(\"../data/winequality/winequality-white.csv\")\n",
    "\n",
    "df_red_wines[\"type\"] = \"red\"\n",
    "df_white_wines[\"type\"] = \"white\"\n",
    "\n",
    "df = pd.concat([df_red_wines, df_white_wines])"
   ]
  },
  {
   "cell_type": "markdown",
   "id": "bfb71ac4",
   "metadata": {},
   "source": [
    "### Experiment Setup\n",
    "\n",
    "We convert this quality to an integer to indicate if it is a high-quality wine or not. We suppose that we have the goal of building a model to predict if a wine will be a high-quality wine given its attributes.\n",
    "\n",
    "\n",
    "Importantly, to illustrate the drift functionalities and simulate a real situation we introduce a time column. This column represents the time when that wine is available. The important considerations to understand the setup are the next:\n",
    "- The wines where time is equal to 0 represent the wines available for training a model. ALL these wines have a level of alcohol lower (or equal) than 11.\n",
    "- We introduce new wines at each timestep. Different from the training set, these new wines can have a level of alcohol higher than 11. For each timestep, we proportion of wines with a higher level of alcohol than 11 grows. The total number of timesteps is 7."
   ]
  },
  {
   "cell_type": "code",
   "execution_count": 7,
   "id": "thick-dublin",
   "metadata": {},
   "outputs": [],
   "source": [
    "# Create id\n",
    "df[\"id\"] = np.arange(df.shape[0])\n",
    "\n",
    "# Encode Label\n",
    "df[\"quality\"] = df[\"quality\"].apply(lambda x: 1 if x >=7 else 0)\n",
    "\n",
    "# Encode Type\n",
    "le = preprocessing.LabelEncoder()\n",
    "df[\"type\"] = le.fit_transform(df[\"type\"])\n",
    "\n",
    "# Set attribute to indicate high alcohol\n",
    "df[\"high_alcohol\"] = df[\"alcohol\"].apply(lambda x: True if x > 11 else False)\n",
    "\n",
    "# Time will represent the moment we have that data\n",
    "df[\"time\"] = -1\n",
    "\n",
    "# For those rows with high alcohol, we set 70% of them as time 0 (they will be used as training)\n",
    "df[\"time\"] = df.apply(\n",
    "    lambda x: 0 if (x[\"high_alcohol\"] == False) and (np.random.uniform() < 0.7) else -1, axis=1\n",
    " )\n",
    "\n",
    "# Each timestep, new amount of samples low_alcohol and high_alcohol\n",
    "n_samples_low_alcohol = [250, 245, 230, 210, 180, 140, 30]\n",
    "n_samples_high_alcohol = [0, 5, 10, 20, 40, 80, 160]\n",
    "max_timesteps = 7\n",
    "for t in range(1, max_timesteps + 1):\n",
    "    # Sample examples with high_alcohol == True\n",
    "    n_samples = n_samples_high_alcohol[t-1]\n",
    "    sampled_ids = df[(df[\"time\"] == -1) & (df[\"high_alcohol\"] == True)].sample(\n",
    "        n_samples, random_state=2021)[\"id\"].values\n",
    "    df.loc[df[\"id\"].isin(sampled_ids), \"time\"] = t\n",
    "    # Sample examples with high_alcohol == False\n",
    "    n_samples = n_samples_low_alcohol[t-1]\n",
    "    sampled_ids = df[(df[\"time\"] == -1) & (df[\"high_alcohol\"] == False)].sample(\n",
    "        n_samples, random_state=2021)[\"id\"].values\n",
    "    df.loc[df[\"id\"].isin(sampled_ids), \"time\"] = t "
   ]
  },
  {
   "cell_type": "code",
   "execution_count": 8,
   "id": "dressed-programmer",
   "metadata": {},
   "outputs": [
    {
     "data": {
      "text/html": [
       "<div>\n",
       "<style scoped>\n",
       "    .dataframe tbody tr th:only-of-type {\n",
       "        vertical-align: middle;\n",
       "    }\n",
       "\n",
       "    .dataframe tbody tr th {\n",
       "        vertical-align: top;\n",
       "    }\n",
       "\n",
       "    .dataframe thead th {\n",
       "        text-align: right;\n",
       "    }\n",
       "</style>\n",
       "<table border=\"1\" class=\"dataframe\">\n",
       "  <thead>\n",
       "    <tr style=\"text-align: right;\">\n",
       "      <th></th>\n",
       "      <th>fixed acidity</th>\n",
       "      <th>volatile acidity</th>\n",
       "      <th>citric acid</th>\n",
       "      <th>residual sugar</th>\n",
       "      <th>chlorides</th>\n",
       "      <th>free sulfur dioxide</th>\n",
       "      <th>total sulfur dioxide</th>\n",
       "      <th>density</th>\n",
       "      <th>pH</th>\n",
       "      <th>sulphates</th>\n",
       "      <th>alcohol</th>\n",
       "      <th>quality</th>\n",
       "      <th>type</th>\n",
       "      <th>id</th>\n",
       "      <th>high_alcohol</th>\n",
       "      <th>time</th>\n",
       "    </tr>\n",
       "  </thead>\n",
       "  <tbody>\n",
       "    <tr>\n",
       "      <th>0</th>\n",
       "      <td>7.4</td>\n",
       "      <td>0.70</td>\n",
       "      <td>0.00</td>\n",
       "      <td>1.9</td>\n",
       "      <td>0.076</td>\n",
       "      <td>11.0</td>\n",
       "      <td>34.0</td>\n",
       "      <td>0.9978</td>\n",
       "      <td>3.51</td>\n",
       "      <td>0.56</td>\n",
       "      <td>9.4</td>\n",
       "      <td>0</td>\n",
       "      <td>0</td>\n",
       "      <td>0</td>\n",
       "      <td>False</td>\n",
       "      <td>4</td>\n",
       "    </tr>\n",
       "    <tr>\n",
       "      <th>1</th>\n",
       "      <td>7.8</td>\n",
       "      <td>0.88</td>\n",
       "      <td>0.00</td>\n",
       "      <td>2.6</td>\n",
       "      <td>0.098</td>\n",
       "      <td>25.0</td>\n",
       "      <td>67.0</td>\n",
       "      <td>0.9968</td>\n",
       "      <td>3.20</td>\n",
       "      <td>0.68</td>\n",
       "      <td>9.8</td>\n",
       "      <td>0</td>\n",
       "      <td>0</td>\n",
       "      <td>1</td>\n",
       "      <td>False</td>\n",
       "      <td>0</td>\n",
       "    </tr>\n",
       "    <tr>\n",
       "      <th>2</th>\n",
       "      <td>7.8</td>\n",
       "      <td>0.76</td>\n",
       "      <td>0.04</td>\n",
       "      <td>2.3</td>\n",
       "      <td>0.092</td>\n",
       "      <td>15.0</td>\n",
       "      <td>54.0</td>\n",
       "      <td>0.9970</td>\n",
       "      <td>3.26</td>\n",
       "      <td>0.65</td>\n",
       "      <td>9.8</td>\n",
       "      <td>0</td>\n",
       "      <td>0</td>\n",
       "      <td>2</td>\n",
       "      <td>False</td>\n",
       "      <td>0</td>\n",
       "    </tr>\n",
       "  </tbody>\n",
       "</table>\n",
       "</div>"
      ],
      "text/plain": [
       "   fixed acidity  volatile acidity  citric acid  residual sugar  chlorides  \\\n",
       "0            7.4              0.70         0.00             1.9      0.076   \n",
       "1            7.8              0.88         0.00             2.6      0.098   \n",
       "2            7.8              0.76         0.04             2.3      0.092   \n",
       "\n",
       "   free sulfur dioxide  total sulfur dioxide  density    pH  sulphates  \\\n",
       "0                 11.0                  34.0   0.9978  3.51       0.56   \n",
       "1                 25.0                  67.0   0.9968  3.20       0.68   \n",
       "2                 15.0                  54.0   0.9970  3.26       0.65   \n",
       "\n",
       "   alcohol  quality  type  id  high_alcohol  time  \n",
       "0      9.4        0     0   0         False     4  \n",
       "1      9.8        0     0   1         False     0  \n",
       "2      9.8        0     0   2         False     0  "
      ]
     },
     "execution_count": 8,
     "metadata": {},
     "output_type": "execute_result"
    }
   ],
   "source": [
    "df.head(3)"
   ]
  },
  {
   "cell_type": "markdown",
   "id": "featured-invention",
   "metadata": {},
   "source": [
    "The next figure shows how the number of wines with low alcohol level decreases over time, while the number of wines with a high level of alcohol increases:"
   ]
  },
  {
   "cell_type": "code",
   "execution_count": 9,
   "id": "inappropriate-illustration",
   "metadata": {
    "scrolled": true
   },
   "outputs": [
    {
     "data": {
      "image/png": "[encoded data removed]",
      "text/plain": [
       "<Figure size 640x480 with 1 Axes>"
      ]
     },
     "metadata": {},
     "output_type": "display_data"
    }
   ],
   "source": [
    "sample_counts = df.groupby([\"time\", \"high_alcohol\"])[\"id\"].count().to_frame().reset_index()\n",
    "sample_counts = sample_counts.rename(columns={\"id\": \"count\"})\n",
    "sample_counts = sample_counts[sample_counts[\"time\"] > 0]\n",
    "ax = sns.lineplot(x=\"time\", y=\"count\", hue=\"high_alcohol\", data=sample_counts)"
   ]
  },
  {
   "cell_type": "code",
   "execution_count": 10,
   "id": "tested-curtis",
   "metadata": {},
   "outputs": [],
   "source": [
    "label = 'quality'\n",
    "features = [c for c in df.columns if c not in [label, 'time', 'high_alcohol', 'id']]"
   ]
  },
  {
   "cell_type": "markdown",
   "id": "characteristic-edmonton",
   "metadata": {},
   "source": [
    "Split the dataframe in a source dataset and 6 possible targets, one per timestep."
   ]
  },
  {
   "cell_type": "code",
   "execution_count": 11,
   "id": "annoying-disease",
   "metadata": {},
   "outputs": [],
   "source": [
    "reference_dataset = df[df[\"time\"] == 0][features].values.copy()\n",
    "timestep_datasets = [df[df[\"time\"] == i][features].values.copy() for i in range(1, 7)]"
   ]
  },
  {
   "cell_type": "markdown",
   "id": "level-disney",
   "metadata": {},
   "source": [
    "Because we will be using autoencoders, it's important we **normalize** the data."
   ]
  },
  {
   "cell_type": "code",
   "execution_count": 12,
   "id": "incorrect-click",
   "metadata": {},
   "outputs": [],
   "source": [
    "# In this case, the dataset is composed only of numerical features + one binary. So we normalize \n",
    "# the numericals.\n",
    "\n",
    "# Train normalizer on SOURCE\n",
    "numeric_feats_transformer = preprocessing.PowerTransformer().fit(reference_dataset[:,:-1])\n",
    "\n",
    "# Apply normalization on all splits\n",
    "reference_dataset[:,:-1] = numeric_feats_transformer.transform(reference_dataset[:,:-1])\n",
    "for i in range(len(timestep_datasets)):\n",
    "    timestep_datasets[i][:,:-1] = numeric_feats_transformer.transform(timestep_datasets[i][:,:-1])"
   ]
  },
  {
   "cell_type": "markdown",
   "id": "interior-truck",
   "metadata": {},
   "source": [
    "## 2. Drift detection\n",
    "\n",
    "The class that handles all the behaviour explained on **Section 0** is `AutoEncoderDriftDetector`.\n",
    "\n",
    "In order to use an `AutoEncoderDriftDetector`, we need to call its `fit` method with a reference dataset. It will train and save `N` internal small autoencoders (default is 30) on several subsamples of SOURCE.\n",
    "\n",
    "Then, calling `calculate_drift`, the test will be made, returning a dictionary with two items; a p-value for the statistical test under the **null hypothesis ($H_0$) that there is no drift** and a boolean indicator of whether there is drift or not."
   ]
  },
  {
   "cell_type": "code",
   "execution_count": 13,
   "id": "thirty-modification",
   "metadata": {},
   "outputs": [],
   "source": [
    "from mercury.monitoring.drift.auto_encoder_drift_detector import AutoEncoderDriftDetector"
   ]
  },
  {
   "cell_type": "code",
   "execution_count": 14,
   "id": "actual-tomorrow",
   "metadata": {
    "collapsed": true
   },
   "outputs": [
    {
     "name": "stdout",
     "output_type": "stream",
     "text": [
      "Metal device set to: Apple M1 Pro\n"
     ]
    },
    {
     "name": "stderr",
     "output_type": "stream",
     "text": [
      "2023-04-04 16:09:04.690706: I tensorflow/core/common_runtime/pluggable_device/pluggable_device_factory.cc:305] Could not identify NUMA node of platform GPU ID 0, defaulting to 0. Your kernel may not have been built with NUMA support.\n",
      "2023-04-04 16:09:04.690800: I tensorflow/core/common_runtime/pluggable_device/pluggable_device_factory.cc:271] Created TensorFlow device (/job:localhost/replica:0/task:0/device:GPU:0 with 0 MB memory) -> physical PluggableDevice (device: 0, name: METAL, pci bus id: <undefined>)\n",
      "2023-04-04 16:09:04.753333: I tensorflow/compiler/mlir/mlir_graph_optimization_pass.cc:185] None of the MLIR Optimization Passes are enabled (registered 2)\n",
      "2023-04-04 16:09:04.753501: W tensorflow/core/platform/profile_utils/cpu_utils.cc:128] Failed to get CPU frequency: 0 Hz\n",
      "2023-04-04 16:09:04.881497: I tensorflow/core/grappler/optimizers/custom_graph_optimizer_registry.cc:112] Plugin optimizer for device_type GPU is enabled.\n",
      "2023-04-04 16:09:06.412718: I tensorflow/core/grappler/optimizers/custom_graph_optimizer_registry.cc:112] Plugin optimizer for device_type GPU is enabled.\n",
      "2023-04-04 16:09:06.655757: I tensorflow/core/grappler/optimizers/custom_graph_optimizer_registry.cc:112] Plugin optimizer for device_type GPU is enabled.\n",
      "2023-04-04 16:09:08.100765: I tensorflow/core/grappler/optimizers/custom_graph_optimizer_registry.cc:112] Plugin optimizer for device_type GPU is enabled.\n",
      "2023-04-04 16:09:08.345006: I tensorflow/core/grappler/optimizers/custom_graph_optimizer_registry.cc:112] Plugin optimizer for device_type GPU is enabled.\n",
      "2023-04-04 16:09:09.853337: I tensorflow/core/grappler/optimizers/custom_graph_optimizer_registry.cc:112] Plugin optimizer for device_type GPU is enabled.\n",
      "2023-04-04 16:09:10.089116: I tensorflow/core/grappler/optimizers/custom_graph_optimizer_registry.cc:112] Plugin optimizer for device_type GPU is enabled.\n",
      "2023-04-04 16:09:11.681021: I tensorflow/core/grappler/optimizers/custom_graph_optimizer_registry.cc:112] Plugin optimizer for device_type GPU is enabled.\n",
      "2023-04-04 16:09:11.922090: I tensorflow/core/grappler/optimizers/custom_graph_optimizer_registry.cc:112] Plugin optimizer for device_type GPU is enabled.\n",
      "2023-04-04 16:09:13.331875: I tensorflow/core/grappler/optimizers/custom_graph_optimizer_registry.cc:112] Plugin optimizer for device_type GPU is enabled.\n",
      "2023-04-04 16:09:13.569932: I tensorflow/core/grappler/optimizers/custom_graph_optimizer_registry.cc:112] Plugin optimizer for device_type GPU is enabled.\n",
      "2023-04-04 16:09:14.980407: I tensorflow/core/grappler/optimizers/custom_graph_optimizer_registry.cc:112] Plugin optimizer for device_type GPU is enabled.\n",
      "2023-04-04 16:09:15.220557: I tensorflow/core/grappler/optimizers/custom_graph_optimizer_registry.cc:112] Plugin optimizer for device_type GPU is enabled.\n",
      "2023-04-04 16:09:16.655417: I tensorflow/core/grappler/optimizers/custom_graph_optimizer_registry.cc:112] Plugin optimizer for device_type GPU is enabled.\n",
      "2023-04-04 16:09:17.009863: I tensorflow/core/grappler/optimizers/custom_graph_optimizer_registry.cc:112] Plugin optimizer for device_type GPU is enabled.\n",
      "2023-04-04 16:09:18.438783: I tensorflow/core/grappler/optimizers/custom_graph_optimizer_registry.cc:112] Plugin optimizer for device_type GPU is enabled.\n",
      "2023-04-04 16:09:18.677029: I tensorflow/core/grappler/optimizers/custom_graph_optimizer_registry.cc:112] Plugin optimizer for device_type GPU is enabled.\n",
      "2023-04-04 16:09:20.099013: I tensorflow/core/grappler/optimizers/custom_graph_optimizer_registry.cc:112] Plugin optimizer for device_type GPU is enabled.\n",
      "2023-04-04 16:09:20.346486: I tensorflow/core/grappler/optimizers/custom_graph_optimizer_registry.cc:112] Plugin optimizer for device_type GPU is enabled.\n",
      "2023-04-04 16:09:21.784618: I tensorflow/core/grappler/optimizers/custom_graph_optimizer_registry.cc:112] Plugin optimizer for device_type GPU is enabled.\n",
      "2023-04-04 16:09:22.027156: I tensorflow/core/grappler/optimizers/custom_graph_optimizer_registry.cc:112] Plugin optimizer for device_type GPU is enabled.\n",
      "2023-04-04 16:09:23.453879: I tensorflow/core/grappler/optimizers/custom_graph_optimizer_registry.cc:112] Plugin optimizer for device_type GPU is enabled.\n",
      "2023-04-04 16:09:23.702693: I tensorflow/core/grappler/optimizers/custom_graph_optimizer_registry.cc:112] Plugin optimizer for device_type GPU is enabled.\n",
      "2023-04-04 16:09:25.175227: I tensorflow/core/grappler/optimizers/custom_graph_optimizer_registry.cc:112] Plugin optimizer for device_type GPU is enabled.\n",
      "2023-04-04 16:09:25.423189: I tensorflow/core/grappler/optimizers/custom_graph_optimizer_registry.cc:112] Plugin optimizer for device_type GPU is enabled.\n",
      "2023-04-04 16:09:26.846526: I tensorflow/core/grappler/optimizers/custom_graph_optimizer_registry.cc:112] Plugin optimizer for device_type GPU is enabled.\n",
      "2023-04-04 16:09:27.081791: I tensorflow/core/grappler/optimizers/custom_graph_optimizer_registry.cc:112] Plugin optimizer for device_type GPU is enabled.\n",
      "2023-04-04 16:09:28.537678: I tensorflow/core/grappler/optimizers/custom_graph_optimizer_registry.cc:112] Plugin optimizer for device_type GPU is enabled.\n",
      "2023-04-04 16:09:28.942229: I tensorflow/core/grappler/optimizers/custom_graph_optimizer_registry.cc:112] Plugin optimizer for device_type GPU is enabled.\n",
      "2023-04-04 16:09:30.438245: I tensorflow/core/grappler/optimizers/custom_graph_optimizer_registry.cc:112] Plugin optimizer for device_type GPU is enabled.\n",
      "2023-04-04 16:09:30.688339: I tensorflow/core/grappler/optimizers/custom_graph_optimizer_registry.cc:112] Plugin optimizer for device_type GPU is enabled.\n",
      "2023-04-04 16:09:32.236320: I tensorflow/core/grappler/optimizers/custom_graph_optimizer_registry.cc:112] Plugin optimizer for device_type GPU is enabled.\n",
      "2023-04-04 16:09:32.488770: I tensorflow/core/grappler/optimizers/custom_graph_optimizer_registry.cc:112] Plugin optimizer for device_type GPU is enabled.\n",
      "2023-04-04 16:09:33.963206: I tensorflow/core/grappler/optimizers/custom_graph_optimizer_registry.cc:112] Plugin optimizer for device_type GPU is enabled.\n",
      "2023-04-04 16:09:34.204194: I tensorflow/core/grappler/optimizers/custom_graph_optimizer_registry.cc:112] Plugin optimizer for device_type GPU is enabled.\n",
      "2023-04-04 16:09:35.980370: I tensorflow/core/grappler/optimizers/custom_graph_optimizer_registry.cc:112] Plugin optimizer for device_type GPU is enabled.\n",
      "2023-04-04 16:09:36.497048: I tensorflow/core/grappler/optimizers/custom_graph_optimizer_registry.cc:112] Plugin optimizer for device_type GPU is enabled.\n",
      "2023-04-04 16:09:38.113617: I tensorflow/core/grappler/optimizers/custom_graph_optimizer_registry.cc:112] Plugin optimizer for device_type GPU is enabled.\n",
      "2023-04-04 16:09:38.365812: I tensorflow/core/grappler/optimizers/custom_graph_optimizer_registry.cc:112] Plugin optimizer for device_type GPU is enabled.\n",
      "2023-04-04 16:09:39.799190: I tensorflow/core/grappler/optimizers/custom_graph_optimizer_registry.cc:112] Plugin optimizer for device_type GPU is enabled.\n",
      "2023-04-04 16:09:40.036806: I tensorflow/core/grappler/optimizers/custom_graph_optimizer_registry.cc:112] Plugin optimizer for device_type GPU is enabled.\n",
      "2023-04-04 16:09:41.473321: I tensorflow/core/grappler/optimizers/custom_graph_optimizer_registry.cc:112] Plugin optimizer for device_type GPU is enabled.\n",
      "2023-04-04 16:09:41.717010: I tensorflow/core/grappler/optimizers/custom_graph_optimizer_registry.cc:112] Plugin optimizer for device_type GPU is enabled.\n",
      "2023-04-04 16:09:43.158857: I tensorflow/core/grappler/optimizers/custom_graph_optimizer_registry.cc:112] Plugin optimizer for device_type GPU is enabled.\n",
      "2023-04-04 16:09:43.403028: I tensorflow/core/grappler/optimizers/custom_graph_optimizer_registry.cc:112] Plugin optimizer for device_type GPU is enabled.\n",
      "2023-04-04 16:09:44.852573: I tensorflow/core/grappler/optimizers/custom_graph_optimizer_registry.cc:112] Plugin optimizer for device_type GPU is enabled.\n",
      "2023-04-04 16:09:45.092640: I tensorflow/core/grappler/optimizers/custom_graph_optimizer_registry.cc:112] Plugin optimizer for device_type GPU is enabled.\n",
      "2023-04-04 16:09:46.563949: I tensorflow/core/grappler/optimizers/custom_graph_optimizer_registry.cc:112] Plugin optimizer for device_type GPU is enabled.\n"
     ]
    },
    {
     "name": "stderr",
     "output_type": "stream",
     "text": [
      "2023-04-04 16:09:46.977146: I tensorflow/core/grappler/optimizers/custom_graph_optimizer_registry.cc:112] Plugin optimizer for device_type GPU is enabled.\n",
      "2023-04-04 16:09:48.399938: I tensorflow/core/grappler/optimizers/custom_graph_optimizer_registry.cc:112] Plugin optimizer for device_type GPU is enabled.\n",
      "2023-04-04 16:09:48.642650: I tensorflow/core/grappler/optimizers/custom_graph_optimizer_registry.cc:112] Plugin optimizer for device_type GPU is enabled.\n",
      "2023-04-04 16:09:50.089318: I tensorflow/core/grappler/optimizers/custom_graph_optimizer_registry.cc:112] Plugin optimizer for device_type GPU is enabled.\n",
      "2023-04-04 16:09:50.334631: I tensorflow/core/grappler/optimizers/custom_graph_optimizer_registry.cc:112] Plugin optimizer for device_type GPU is enabled.\n",
      "2023-04-04 16:09:51.748286: I tensorflow/core/grappler/optimizers/custom_graph_optimizer_registry.cc:112] Plugin optimizer for device_type GPU is enabled.\n",
      "2023-04-04 16:09:51.990522: I tensorflow/core/grappler/optimizers/custom_graph_optimizer_registry.cc:112] Plugin optimizer for device_type GPU is enabled.\n",
      "2023-04-04 16:09:53.429100: I tensorflow/core/grappler/optimizers/custom_graph_optimizer_registry.cc:112] Plugin optimizer for device_type GPU is enabled.\n",
      "2023-04-04 16:09:53.668034: I tensorflow/core/grappler/optimizers/custom_graph_optimizer_registry.cc:112] Plugin optimizer for device_type GPU is enabled.\n",
      "2023-04-04 16:09:55.099691: I tensorflow/core/grappler/optimizers/custom_graph_optimizer_registry.cc:112] Plugin optimizer for device_type GPU is enabled.\n",
      "2023-04-04 16:09:55.339776: I tensorflow/core/grappler/optimizers/custom_graph_optimizer_registry.cc:112] Plugin optimizer for device_type GPU is enabled.\n",
      "2023-04-04 16:09:56.762155: I tensorflow/core/grappler/optimizers/custom_graph_optimizer_registry.cc:112] Plugin optimizer for device_type GPU is enabled.\n"
     ]
    }
   ],
   "source": [
    "detector = AutoEncoderDriftDetector().fit(reference_dataset)"
   ]
  },
  {
   "cell_type": "markdown",
   "id": "sticky-brisbane",
   "metadata": {},
   "source": [
    "After having fitted the detector, we can check for drift on each one of the subsequent timesteps."
   ]
  },
  {
   "cell_type": "code",
   "execution_count": 15,
   "id": "cultural-development",
   "metadata": {
    "collapsed": true
   },
   "outputs": [
    {
     "name": "stderr",
     "output_type": "stream",
     "text": [
      "2023-04-04 16:09:56.900245: I tensorflow/core/grappler/optimizers/custom_graph_optimizer_registry.cc:112] Plugin optimizer for device_type GPU is enabled.\n",
      "2023-04-04 16:09:57.226446: I tensorflow/core/grappler/optimizers/custom_graph_optimizer_registry.cc:112] Plugin optimizer for device_type GPU is enabled.\n",
      "2023-04-04 16:09:57.537826: I tensorflow/core/grappler/optimizers/custom_graph_optimizer_registry.cc:112] Plugin optimizer for device_type GPU is enabled.\n",
      "2023-04-04 16:09:57.849268: I tensorflow/core/grappler/optimizers/custom_graph_optimizer_registry.cc:112] Plugin optimizer for device_type GPU is enabled.\n",
      "2023-04-04 16:09:58.159333: I tensorflow/core/grappler/optimizers/custom_graph_optimizer_registry.cc:112] Plugin optimizer for device_type GPU is enabled.\n",
      "2023-04-04 16:09:58.476902: I tensorflow/core/grappler/optimizers/custom_graph_optimizer_registry.cc:112] Plugin optimizer for device_type GPU is enabled.\n",
      "2023-04-04 16:09:58.786758: I tensorflow/core/grappler/optimizers/custom_graph_optimizer_registry.cc:112] Plugin optimizer for device_type GPU is enabled.\n",
      "2023-04-04 16:09:59.099591: I tensorflow/core/grappler/optimizers/custom_graph_optimizer_registry.cc:112] Plugin optimizer for device_type GPU is enabled.\n",
      "2023-04-04 16:09:59.415212: I tensorflow/core/grappler/optimizers/custom_graph_optimizer_registry.cc:112] Plugin optimizer for device_type GPU is enabled.\n",
      "2023-04-04 16:09:59.768246: I tensorflow/core/grappler/optimizers/custom_graph_optimizer_registry.cc:112] Plugin optimizer for device_type GPU is enabled.\n",
      "2023-04-04 16:10:00.081335: I tensorflow/core/grappler/optimizers/custom_graph_optimizer_registry.cc:112] Plugin optimizer for device_type GPU is enabled.\n",
      "2023-04-04 16:10:00.394817: I tensorflow/core/grappler/optimizers/custom_graph_optimizer_registry.cc:112] Plugin optimizer for device_type GPU is enabled.\n",
      "2023-04-04 16:10:00.705831: I tensorflow/core/grappler/optimizers/custom_graph_optimizer_registry.cc:112] Plugin optimizer for device_type GPU is enabled.\n",
      "2023-04-04 16:10:01.022012: I tensorflow/core/grappler/optimizers/custom_graph_optimizer_registry.cc:112] Plugin optimizer for device_type GPU is enabled.\n",
      "2023-04-04 16:10:01.329707: I tensorflow/core/grappler/optimizers/custom_graph_optimizer_registry.cc:112] Plugin optimizer for device_type GPU is enabled.\n",
      "2023-04-04 16:10:01.639842: I tensorflow/core/grappler/optimizers/custom_graph_optimizer_registry.cc:112] Plugin optimizer for device_type GPU is enabled.\n",
      "2023-04-04 16:10:01.945697: I tensorflow/core/grappler/optimizers/custom_graph_optimizer_registry.cc:112] Plugin optimizer for device_type GPU is enabled.\n",
      "2023-04-04 16:10:02.259600: I tensorflow/core/grappler/optimizers/custom_graph_optimizer_registry.cc:112] Plugin optimizer for device_type GPU is enabled.\n",
      "2023-04-04 16:10:02.566783: I tensorflow/core/grappler/optimizers/custom_graph_optimizer_registry.cc:112] Plugin optimizer for device_type GPU is enabled.\n",
      "2023-04-04 16:10:02.877771: I tensorflow/core/grappler/optimizers/custom_graph_optimizer_registry.cc:112] Plugin optimizer for device_type GPU is enabled.\n",
      "2023-04-04 16:10:03.186887: I tensorflow/core/grappler/optimizers/custom_graph_optimizer_registry.cc:112] Plugin optimizer for device_type GPU is enabled.\n",
      "2023-04-04 16:10:03.500735: I tensorflow/core/grappler/optimizers/custom_graph_optimizer_registry.cc:112] Plugin optimizer for device_type GPU is enabled.\n",
      "2023-04-04 16:10:03.812650: I tensorflow/core/grappler/optimizers/custom_graph_optimizer_registry.cc:112] Plugin optimizer for device_type GPU is enabled.\n",
      "2023-04-04 16:10:04.130415: I tensorflow/core/grappler/optimizers/custom_graph_optimizer_registry.cc:112] Plugin optimizer for device_type GPU is enabled.\n",
      "2023-04-04 16:10:04.435569: I tensorflow/core/grappler/optimizers/custom_graph_optimizer_registry.cc:112] Plugin optimizer for device_type GPU is enabled.\n",
      "2023-04-04 16:10:04.749214: I tensorflow/core/grappler/optimizers/custom_graph_optimizer_registry.cc:112] Plugin optimizer for device_type GPU is enabled.\n",
      "2023-04-04 16:10:05.054893: I tensorflow/core/grappler/optimizers/custom_graph_optimizer_registry.cc:112] Plugin optimizer for device_type GPU is enabled.\n",
      "2023-04-04 16:10:05.377024: I tensorflow/core/grappler/optimizers/custom_graph_optimizer_registry.cc:112] Plugin optimizer for device_type GPU is enabled.\n",
      "2023-04-04 16:10:05.722924: I tensorflow/core/grappler/optimizers/custom_graph_optimizer_registry.cc:112] Plugin optimizer for device_type GPU is enabled.\n",
      "2023-04-04 16:10:06.051338: I tensorflow/core/grappler/optimizers/custom_graph_optimizer_registry.cc:112] Plugin optimizer for device_type GPU is enabled.\n"
     ]
    },
    {
     "name": "stdout",
     "output_type": "stream",
     "text": [
      "Drift detection for timestep 1 -> {'pval': 1.5099296795810785e-11, 'drift': True}\n",
      "Drift detection for timestep 2 -> {'pval': 1.5099296795810785e-11, 'drift': True}\n",
      "Drift detection for timestep 3 -> {'pval': 1.5099296795810785e-11, 'drift': True}\n",
      "Drift detection for timestep 4 -> {'pval': 1.5099296795810785e-11, 'drift': True}\n",
      "Drift detection for timestep 5 -> {'pval': 1.5099296795810785e-11, 'drift': True}\n",
      "Drift detection for timestep 6 -> {'pval': 1.5099296795810785e-11, 'drift': True}\n"
     ]
    }
   ],
   "source": [
    "for i in range(len(timestep_datasets)):\n",
    "    print(f\"Drift detection for timestep {i+1} -> {detector.calculate_drift(timestep_datasets[i])}\")"
   ]
  },
  {
   "cell_type": "markdown",
   "id": "statewide-soldier",
   "metadata": {},
   "source": [
    "Depending on the execution, drift begins to be detected after the second timestep, when the high alcohol wines start appearing.\n",
    "\n",
    "The class supports several parameters that allows us tuning its detection performance. The most important are:\n",
    "\n",
    "- `bootstrap_samples`:  The amount of autoencoders that will be trained. The higher, the more confident the estimate will be, but also the slower.\n",
    "- `bootstrap_sample_size`: Amount of samples each autoencoder will be trained on (the more, the slower).\n",
    "\n",
    "Using the `autoencoder_kwargs` (dictionary) argument, one can customize the training of the autoencoders. The supported parameters are:\n",
    "\n",
    "- `optimizer`: `tf.keras.Optimizer` (or directly a string, the same as what Keras `model.compile` supports)\n",
    "- `loss`: `tf.keras.Loss` (or directly a string, the same as what Keras `model.compile` supports)\n",
    "- `batch_size`: Batch size\n",
    "- `epochs`: Batch size\n",
    "- `verbose`: Whether to print the keras fit progress bar."
   ]
  },
  {
   "cell_type": "code",
   "execution_count": 16,
   "id": "premier-subdivision",
   "metadata": {
    "collapsed": true
   },
   "outputs": [
    {
     "name": "stderr",
     "output_type": "stream",
     "text": [
      "2023-04-04 16:10:52.705721: I tensorflow/core/grappler/optimizers/custom_graph_optimizer_registry.cc:112] Plugin optimizer for device_type GPU is enabled.\n",
      "2023-04-04 16:10:53.566083: I tensorflow/core/grappler/optimizers/custom_graph_optimizer_registry.cc:112] Plugin optimizer for device_type GPU is enabled.\n",
      "2023-04-04 16:10:53.986492: I tensorflow/core/grappler/optimizers/custom_graph_optimizer_registry.cc:112] Plugin optimizer for device_type GPU is enabled.\n",
      "2023-04-04 16:10:54.581683: I tensorflow/core/grappler/optimizers/custom_graph_optimizer_registry.cc:112] Plugin optimizer for device_type GPU is enabled.\n",
      "2023-04-04 16:10:54.853215: I tensorflow/core/grappler/optimizers/custom_graph_optimizer_registry.cc:112] Plugin optimizer for device_type GPU is enabled.\n",
      "2023-04-04 16:10:55.374514: I tensorflow/core/grappler/optimizers/custom_graph_optimizer_registry.cc:112] Plugin optimizer for device_type GPU is enabled.\n",
      "2023-04-04 16:10:55.644345: I tensorflow/core/grappler/optimizers/custom_graph_optimizer_registry.cc:112] Plugin optimizer for device_type GPU is enabled.\n",
      "2023-04-04 16:10:56.139140: I tensorflow/core/grappler/optimizers/custom_graph_optimizer_registry.cc:112] Plugin optimizer for device_type GPU is enabled.\n",
      "2023-04-04 16:10:56.385547: I tensorflow/core/grappler/optimizers/custom_graph_optimizer_registry.cc:112] Plugin optimizer for device_type GPU is enabled.\n",
      "2023-04-04 16:10:56.895820: I tensorflow/core/grappler/optimizers/custom_graph_optimizer_registry.cc:112] Plugin optimizer for device_type GPU is enabled.\n",
      "2023-04-04 16:10:57.182758: I tensorflow/core/grappler/optimizers/custom_graph_optimizer_registry.cc:112] Plugin optimizer for device_type GPU is enabled.\n",
      "2023-04-04 16:10:57.704360: I tensorflow/core/grappler/optimizers/custom_graph_optimizer_registry.cc:112] Plugin optimizer for device_type GPU is enabled.\n",
      "2023-04-04 16:10:57.966262: I tensorflow/core/grappler/optimizers/custom_graph_optimizer_registry.cc:112] Plugin optimizer for device_type GPU is enabled.\n",
      "2023-04-04 16:10:58.450737: I tensorflow/core/grappler/optimizers/custom_graph_optimizer_registry.cc:112] Plugin optimizer for device_type GPU is enabled.\n",
      "2023-04-04 16:10:58.691398: I tensorflow/core/grappler/optimizers/custom_graph_optimizer_registry.cc:112] Plugin optimizer for device_type GPU is enabled.\n",
      "2023-04-04 16:10:59.524331: I tensorflow/core/grappler/optimizers/custom_graph_optimizer_registry.cc:112] Plugin optimizer for device_type GPU is enabled.\n",
      "2023-04-04 16:10:59.771866: I tensorflow/core/grappler/optimizers/custom_graph_optimizer_registry.cc:112] Plugin optimizer for device_type GPU is enabled.\n",
      "2023-04-04 16:11:00.319926: I tensorflow/core/grappler/optimizers/custom_graph_optimizer_registry.cc:112] Plugin optimizer for device_type GPU is enabled.\n",
      "2023-04-04 16:11:00.570150: I tensorflow/core/grappler/optimizers/custom_graph_optimizer_registry.cc:112] Plugin optimizer for device_type GPU is enabled.\n",
      "2023-04-04 16:11:01.170813: I tensorflow/core/grappler/optimizers/custom_graph_optimizer_registry.cc:112] Plugin optimizer for device_type GPU is enabled.\n",
      "2023-04-04 16:11:01.426829: I tensorflow/core/grappler/optimizers/custom_graph_optimizer_registry.cc:112] Plugin optimizer for device_type GPU is enabled.\n",
      "2023-04-04 16:11:01.964992: I tensorflow/core/grappler/optimizers/custom_graph_optimizer_registry.cc:112] Plugin optimizer for device_type GPU is enabled.\n",
      "2023-04-04 16:11:02.235144: I tensorflow/core/grappler/optimizers/custom_graph_optimizer_registry.cc:112] Plugin optimizer for device_type GPU is enabled.\n",
      "2023-04-04 16:11:02.766215: I tensorflow/core/grappler/optimizers/custom_graph_optimizer_registry.cc:112] Plugin optimizer for device_type GPU is enabled.\n",
      "2023-04-04 16:11:03.010558: I tensorflow/core/grappler/optimizers/custom_graph_optimizer_registry.cc:112] Plugin optimizer for device_type GPU is enabled.\n",
      "2023-04-04 16:11:03.530614: I tensorflow/core/grappler/optimizers/custom_graph_optimizer_registry.cc:112] Plugin optimizer for device_type GPU is enabled.\n",
      "2023-04-04 16:11:03.778176: I tensorflow/core/grappler/optimizers/custom_graph_optimizer_registry.cc:112] Plugin optimizer for device_type GPU is enabled.\n",
      "2023-04-04 16:11:04.298341: I tensorflow/core/grappler/optimizers/custom_graph_optimizer_registry.cc:112] Plugin optimizer for device_type GPU is enabled.\n",
      "2023-04-04 16:11:04.548393: I tensorflow/core/grappler/optimizers/custom_graph_optimizer_registry.cc:112] Plugin optimizer for device_type GPU is enabled.\n",
      "2023-04-04 16:11:05.063894: I tensorflow/core/grappler/optimizers/custom_graph_optimizer_registry.cc:112] Plugin optimizer for device_type GPU is enabled.\n",
      "2023-04-04 16:11:05.328388: I tensorflow/core/grappler/optimizers/custom_graph_optimizer_registry.cc:112] Plugin optimizer for device_type GPU is enabled.\n",
      "2023-04-04 16:11:05.838057: I tensorflow/core/grappler/optimizers/custom_graph_optimizer_registry.cc:112] Plugin optimizer for device_type GPU is enabled.\n",
      "2023-04-04 16:11:06.082100: I tensorflow/core/grappler/optimizers/custom_graph_optimizer_registry.cc:112] Plugin optimizer for device_type GPU is enabled.\n",
      "2023-04-04 16:11:06.586973: I tensorflow/core/grappler/optimizers/custom_graph_optimizer_registry.cc:112] Plugin optimizer for device_type GPU is enabled.\n",
      "2023-04-04 16:11:06.828145: I tensorflow/core/grappler/optimizers/custom_graph_optimizer_registry.cc:112] Plugin optimizer for device_type GPU is enabled.\n",
      "2023-04-04 16:11:07.345900: I tensorflow/core/grappler/optimizers/custom_graph_optimizer_registry.cc:112] Plugin optimizer for device_type GPU is enabled.\n",
      "2023-04-04 16:11:07.591237: I tensorflow/core/grappler/optimizers/custom_graph_optimizer_registry.cc:112] Plugin optimizer for device_type GPU is enabled.\n",
      "2023-04-04 16:11:08.145183: I tensorflow/core/grappler/optimizers/custom_graph_optimizer_registry.cc:112] Plugin optimizer for device_type GPU is enabled.\n",
      "2023-04-04 16:11:08.396750: I tensorflow/core/grappler/optimizers/custom_graph_optimizer_registry.cc:112] Plugin optimizer for device_type GPU is enabled.\n",
      "2023-04-04 16:11:08.929823: I tensorflow/core/grappler/optimizers/custom_graph_optimizer_registry.cc:112] Plugin optimizer for device_type GPU is enabled.\n",
      "2023-04-04 16:11:09.175853: I tensorflow/core/grappler/optimizers/custom_graph_optimizer_registry.cc:112] Plugin optimizer for device_type GPU is enabled.\n",
      "2023-04-04 16:11:09.963009: I tensorflow/core/grappler/optimizers/custom_graph_optimizer_registry.cc:112] Plugin optimizer for device_type GPU is enabled.\n",
      "2023-04-04 16:11:10.220004: I tensorflow/core/grappler/optimizers/custom_graph_optimizer_registry.cc:112] Plugin optimizer for device_type GPU is enabled.\n",
      "2023-04-04 16:11:10.896258: I tensorflow/core/grappler/optimizers/custom_graph_optimizer_registry.cc:112] Plugin optimizer for device_type GPU is enabled.\n",
      "2023-04-04 16:11:11.154717: I tensorflow/core/grappler/optimizers/custom_graph_optimizer_registry.cc:112] Plugin optimizer for device_type GPU is enabled.\n",
      "2023-04-04 16:11:11.708042: I tensorflow/core/grappler/optimizers/custom_graph_optimizer_registry.cc:112] Plugin optimizer for device_type GPU is enabled.\n",
      "2023-04-04 16:11:11.970464: I tensorflow/core/grappler/optimizers/custom_graph_optimizer_registry.cc:112] Plugin optimizer for device_type GPU is enabled.\n",
      "2023-04-04 16:11:12.502818: I tensorflow/core/grappler/optimizers/custom_graph_optimizer_registry.cc:112] Plugin optimizer for device_type GPU is enabled.\n",
      "2023-04-04 16:11:12.752715: I tensorflow/core/grappler/optimizers/custom_graph_optimizer_registry.cc:112] Plugin optimizer for device_type GPU is enabled.\n",
      "2023-04-04 16:11:13.296117: I tensorflow/core/grappler/optimizers/custom_graph_optimizer_registry.cc:112] Plugin optimizer for device_type GPU is enabled.\n",
      "2023-04-04 16:11:13.541632: I tensorflow/core/grappler/optimizers/custom_graph_optimizer_registry.cc:112] Plugin optimizer for device_type GPU is enabled.\n",
      "2023-04-04 16:11:14.064732: I tensorflow/core/grappler/optimizers/custom_graph_optimizer_registry.cc:112] Plugin optimizer for device_type GPU is enabled.\n",
      "2023-04-04 16:11:14.313372: I tensorflow/core/grappler/optimizers/custom_graph_optimizer_registry.cc:112] Plugin optimizer for device_type GPU is enabled.\n"
     ]
    },
    {
     "name": "stderr",
     "output_type": "stream",
     "text": [
      "2023-04-04 16:11:14.878453: I tensorflow/core/grappler/optimizers/custom_graph_optimizer_registry.cc:112] Plugin optimizer for device_type GPU is enabled.\n",
      "2023-04-04 16:11:15.131426: I tensorflow/core/grappler/optimizers/custom_graph_optimizer_registry.cc:112] Plugin optimizer for device_type GPU is enabled.\n",
      "2023-04-04 16:11:15.679405: I tensorflow/core/grappler/optimizers/custom_graph_optimizer_registry.cc:112] Plugin optimizer for device_type GPU is enabled.\n",
      "2023-04-04 16:11:15.939927: I tensorflow/core/grappler/optimizers/custom_graph_optimizer_registry.cc:112] Plugin optimizer for device_type GPU is enabled.\n",
      "2023-04-04 16:11:16.485681: I tensorflow/core/grappler/optimizers/custom_graph_optimizer_registry.cc:112] Plugin optimizer for device_type GPU is enabled.\n",
      "2023-04-04 16:11:16.742928: I tensorflow/core/grappler/optimizers/custom_graph_optimizer_registry.cc:112] Plugin optimizer for device_type GPU is enabled.\n",
      "2023-04-04 16:11:17.301263: I tensorflow/core/grappler/optimizers/custom_graph_optimizer_registry.cc:112] Plugin optimizer for device_type GPU is enabled.\n",
      "2023-04-04 16:11:17.566861: I tensorflow/core/grappler/optimizers/custom_graph_optimizer_registry.cc:112] Plugin optimizer for device_type GPU is enabled.\n",
      "2023-04-04 16:11:18.105933: I tensorflow/core/grappler/optimizers/custom_graph_optimizer_registry.cc:112] Plugin optimizer for device_type GPU is enabled.\n",
      "2023-04-04 16:11:18.355075: I tensorflow/core/grappler/optimizers/custom_graph_optimizer_registry.cc:112] Plugin optimizer for device_type GPU is enabled.\n",
      "2023-04-04 16:11:18.900545: I tensorflow/core/grappler/optimizers/custom_graph_optimizer_registry.cc:112] Plugin optimizer for device_type GPU is enabled.\n",
      "2023-04-04 16:11:19.159542: I tensorflow/core/grappler/optimizers/custom_graph_optimizer_registry.cc:112] Plugin optimizer for device_type GPU is enabled.\n",
      "2023-04-04 16:11:19.728351: I tensorflow/core/grappler/optimizers/custom_graph_optimizer_registry.cc:112] Plugin optimizer for device_type GPU is enabled.\n",
      "2023-04-04 16:11:19.972186: I tensorflow/core/grappler/optimizers/custom_graph_optimizer_registry.cc:112] Plugin optimizer for device_type GPU is enabled.\n",
      "2023-04-04 16:11:20.501800: I tensorflow/core/grappler/optimizers/custom_graph_optimizer_registry.cc:112] Plugin optimizer for device_type GPU is enabled.\n",
      "2023-04-04 16:11:20.772511: I tensorflow/core/grappler/optimizers/custom_graph_optimizer_registry.cc:112] Plugin optimizer for device_type GPU is enabled.\n",
      "2023-04-04 16:11:21.296613: I tensorflow/core/grappler/optimizers/custom_graph_optimizer_registry.cc:112] Plugin optimizer for device_type GPU is enabled.\n",
      "2023-04-04 16:11:21.544587: I tensorflow/core/grappler/optimizers/custom_graph_optimizer_registry.cc:112] Plugin optimizer for device_type GPU is enabled.\n",
      "2023-04-04 16:11:22.112442: I tensorflow/core/grappler/optimizers/custom_graph_optimizer_registry.cc:112] Plugin optimizer for device_type GPU is enabled.\n",
      "2023-04-04 16:11:22.724428: I tensorflow/core/grappler/optimizers/custom_graph_optimizer_registry.cc:112] Plugin optimizer for device_type GPU is enabled.\n",
      "2023-04-04 16:11:23.365006: I tensorflow/core/grappler/optimizers/custom_graph_optimizer_registry.cc:112] Plugin optimizer for device_type GPU is enabled.\n",
      "2023-04-04 16:11:23.629407: I tensorflow/core/grappler/optimizers/custom_graph_optimizer_registry.cc:112] Plugin optimizer for device_type GPU is enabled.\n",
      "2023-04-04 16:11:24.194185: I tensorflow/core/grappler/optimizers/custom_graph_optimizer_registry.cc:112] Plugin optimizer for device_type GPU is enabled.\n",
      "2023-04-04 16:11:24.444451: I tensorflow/core/grappler/optimizers/custom_graph_optimizer_registry.cc:112] Plugin optimizer for device_type GPU is enabled.\n",
      "2023-04-04 16:11:25.024116: I tensorflow/core/grappler/optimizers/custom_graph_optimizer_registry.cc:112] Plugin optimizer for device_type GPU is enabled.\n",
      "2023-04-04 16:11:25.274686: I tensorflow/core/grappler/optimizers/custom_graph_optimizer_registry.cc:112] Plugin optimizer for device_type GPU is enabled.\n",
      "2023-04-04 16:11:25.833402: I tensorflow/core/grappler/optimizers/custom_graph_optimizer_registry.cc:112] Plugin optimizer for device_type GPU is enabled.\n"
     ]
    }
   ],
   "source": [
    "detector = AutoEncoderDriftDetector(\n",
    "    bootstrap_samples=40,\n",
    "    autoencoder_kwargs= {'epochs': 5, 'batch_size': 256}\n",
    ").fit(reference_dataset)"
   ]
  },
  {
   "cell_type": "code",
   "execution_count": 17,
   "id": "other-ethics",
   "metadata": {
    "scrolled": true
   },
   "outputs": [
    {
     "name": "stderr",
     "output_type": "stream",
     "text": [
      "2023-04-04 16:11:25.993917: I tensorflow/core/grappler/optimizers/custom_graph_optimizer_registry.cc:112] Plugin optimizer for device_type GPU is enabled.\n",
      "2023-04-04 16:11:26.332201: I tensorflow/core/grappler/optimizers/custom_graph_optimizer_registry.cc:112] Plugin optimizer for device_type GPU is enabled.\n",
      "2023-04-04 16:11:26.652852: I tensorflow/core/grappler/optimizers/custom_graph_optimizer_registry.cc:112] Plugin optimizer for device_type GPU is enabled.\n",
      "2023-04-04 16:11:26.986287: I tensorflow/core/grappler/optimizers/custom_graph_optimizer_registry.cc:112] Plugin optimizer for device_type GPU is enabled.\n",
      "2023-04-04 16:11:27.331641: I tensorflow/core/grappler/optimizers/custom_graph_optimizer_registry.cc:112] Plugin optimizer for device_type GPU is enabled.\n",
      "2023-04-04 16:11:27.684121: I tensorflow/core/grappler/optimizers/custom_graph_optimizer_registry.cc:112] Plugin optimizer for device_type GPU is enabled.\n",
      "2023-04-04 16:11:28.009450: I tensorflow/core/grappler/optimizers/custom_graph_optimizer_registry.cc:112] Plugin optimizer for device_type GPU is enabled.\n",
      "2023-04-04 16:11:28.357345: I tensorflow/core/grappler/optimizers/custom_graph_optimizer_registry.cc:112] Plugin optimizer for device_type GPU is enabled.\n",
      "2023-04-04 16:11:28.684613: I tensorflow/core/grappler/optimizers/custom_graph_optimizer_registry.cc:112] Plugin optimizer for device_type GPU is enabled.\n",
      "2023-04-04 16:11:29.012181: I tensorflow/core/grappler/optimizers/custom_graph_optimizer_registry.cc:112] Plugin optimizer for device_type GPU is enabled.\n",
      "2023-04-04 16:11:29.338054: I tensorflow/core/grappler/optimizers/custom_graph_optimizer_registry.cc:112] Plugin optimizer for device_type GPU is enabled.\n",
      "2023-04-04 16:11:29.658141: I tensorflow/core/grappler/optimizers/custom_graph_optimizer_registry.cc:112] Plugin optimizer for device_type GPU is enabled.\n",
      "2023-04-04 16:11:29.982152: I tensorflow/core/grappler/optimizers/custom_graph_optimizer_registry.cc:112] Plugin optimizer for device_type GPU is enabled.\n",
      "2023-04-04 16:11:30.323167: I tensorflow/core/grappler/optimizers/custom_graph_optimizer_registry.cc:112] Plugin optimizer for device_type GPU is enabled.\n",
      "2023-04-04 16:11:30.656185: I tensorflow/core/grappler/optimizers/custom_graph_optimizer_registry.cc:112] Plugin optimizer for device_type GPU is enabled.\n",
      "2023-04-04 16:11:30.978260: I tensorflow/core/grappler/optimizers/custom_graph_optimizer_registry.cc:112] Plugin optimizer for device_type GPU is enabled.\n",
      "2023-04-04 16:11:31.297956: I tensorflow/core/grappler/optimizers/custom_graph_optimizer_registry.cc:112] Plugin optimizer for device_type GPU is enabled.\n",
      "2023-04-04 16:11:31.625113: I tensorflow/core/grappler/optimizers/custom_graph_optimizer_registry.cc:112] Plugin optimizer for device_type GPU is enabled.\n",
      "2023-04-04 16:11:31.961736: I tensorflow/core/grappler/optimizers/custom_graph_optimizer_registry.cc:112] Plugin optimizer for device_type GPU is enabled.\n",
      "2023-04-04 16:11:32.292940: I tensorflow/core/grappler/optimizers/custom_graph_optimizer_registry.cc:112] Plugin optimizer for device_type GPU is enabled.\n",
      "2023-04-04 16:11:32.612798: I tensorflow/core/grappler/optimizers/custom_graph_optimizer_registry.cc:112] Plugin optimizer for device_type GPU is enabled.\n",
      "2023-04-04 16:11:32.937936: I tensorflow/core/grappler/optimizers/custom_graph_optimizer_registry.cc:112] Plugin optimizer for device_type GPU is enabled.\n",
      "2023-04-04 16:11:33.263674: I tensorflow/core/grappler/optimizers/custom_graph_optimizer_registry.cc:112] Plugin optimizer for device_type GPU is enabled.\n",
      "2023-04-04 16:11:33.588619: I tensorflow/core/grappler/optimizers/custom_graph_optimizer_registry.cc:112] Plugin optimizer for device_type GPU is enabled.\n",
      "2023-04-04 16:11:33.905716: I tensorflow/core/grappler/optimizers/custom_graph_optimizer_registry.cc:112] Plugin optimizer for device_type GPU is enabled.\n",
      "2023-04-04 16:11:34.221911: I tensorflow/core/grappler/optimizers/custom_graph_optimizer_registry.cc:112] Plugin optimizer for device_type GPU is enabled.\n",
      "2023-04-04 16:11:34.544550: I tensorflow/core/grappler/optimizers/custom_graph_optimizer_registry.cc:112] Plugin optimizer for device_type GPU is enabled.\n",
      "2023-04-04 16:11:34.861933: I tensorflow/core/grappler/optimizers/custom_graph_optimizer_registry.cc:112] Plugin optimizer for device_type GPU is enabled.\n",
      "2023-04-04 16:11:35.187262: I tensorflow/core/grappler/optimizers/custom_graph_optimizer_registry.cc:112] Plugin optimizer for device_type GPU is enabled.\n",
      "2023-04-04 16:11:35.512506: I tensorflow/core/grappler/optimizers/custom_graph_optimizer_registry.cc:112] Plugin optimizer for device_type GPU is enabled.\n",
      "2023-04-04 16:11:35.831408: I tensorflow/core/grappler/optimizers/custom_graph_optimizer_registry.cc:112] Plugin optimizer for device_type GPU is enabled.\n",
      "2023-04-04 16:11:36.147277: I tensorflow/core/grappler/optimizers/custom_graph_optimizer_registry.cc:112] Plugin optimizer for device_type GPU is enabled.\n",
      "2023-04-04 16:11:36.464665: I tensorflow/core/grappler/optimizers/custom_graph_optimizer_registry.cc:112] Plugin optimizer for device_type GPU is enabled.\n",
      "2023-04-04 16:11:36.786320: I tensorflow/core/grappler/optimizers/custom_graph_optimizer_registry.cc:112] Plugin optimizer for device_type GPU is enabled.\n",
      "2023-04-04 16:11:37.111221: I tensorflow/core/grappler/optimizers/custom_graph_optimizer_registry.cc:112] Plugin optimizer for device_type GPU is enabled.\n",
      "2023-04-04 16:11:37.433973: I tensorflow/core/grappler/optimizers/custom_graph_optimizer_registry.cc:112] Plugin optimizer for device_type GPU is enabled.\n",
      "2023-04-04 16:11:37.761470: I tensorflow/core/grappler/optimizers/custom_graph_optimizer_registry.cc:112] Plugin optimizer for device_type GPU is enabled.\n",
      "2023-04-04 16:11:38.091875: I tensorflow/core/grappler/optimizers/custom_graph_optimizer_registry.cc:112] Plugin optimizer for device_type GPU is enabled.\n",
      "2023-04-04 16:11:38.420764: I tensorflow/core/grappler/optimizers/custom_graph_optimizer_registry.cc:112] Plugin optimizer for device_type GPU is enabled.\n",
      "2023-04-04 16:11:38.748521: I tensorflow/core/grappler/optimizers/custom_graph_optimizer_registry.cc:112] Plugin optimizer for device_type GPU is enabled.\n"
     ]
    }
   ],
   "source": [
    "result = detector.calculate_drift(timestep_datasets[5], return_errors=True)"
   ]
  },
  {
   "cell_type": "markdown",
   "id": "coated-dollar",
   "metadata": {},
   "source": [
    "If we pass `return_errors=True` to the `calculate_drift` method, the resulting dictionary will also have two more keys with the source and target errors which we can use for doing further analysis. For example, getting its histograms"
   ]
  },
  {
   "cell_type": "code",
   "execution_count": 18,
   "id": "reliable-database",
   "metadata": {},
   "outputs": [
    {
     "data": {
      "text/plain": [
       "<matplotlib.legend.Legend at 0x177080250>"
      ]
     },
     "execution_count": 18,
     "metadata": {},
     "output_type": "execute_result"
    },
    {
     "data": {
      "image/png": "[encoded data removed]",
      "text/plain": [
       "<Figure size 640x480 with 1 Axes>"
      ]
     },
     "metadata": {},
     "output_type": "display_data"
    }
   ],
   "source": [
    "fig, ax = plt.subplots()\n",
    "\n",
    "ax.hist(result['source_errors'], label='source')\n",
    "ax.hist(result['target_errors'], label='target')\n",
    "ax.set_title(\"Autoencoder error distributions\")\n",
    "ax.legend()"
   ]
  },
  {
   "cell_type": "markdown",
   "id": "9308f1b0",
   "metadata": {},
   "source": [
    "## References\n",
    "\n",
    "<a id=\"[1]\">[1]</a> \n",
    "P. Cortez, A. Cerdeira, F. Almeida, T. Matos and J. Reis.\n",
    "Modeling wine preferences by data mining from physicochemical properties. In Decision Support Systems, Elsevier, 47(4):547-553, 2009."
   ]
  },
  {
   "cell_type": "code",
   "execution_count": null,
   "id": "c6d87291",
   "metadata": {},
   "outputs": [],
   "source": []
  }
 ],
 "metadata": {
  "kernelspec": {
   "display_name": "Python 3 (ipykernel)",
   "language": "python",
   "name": "python3"
  },
  "language_info": {
   "codemirror_mode": {
    "name": "ipython",
    "version": 3
   },
   "file_extension": ".py",
   "mimetype": "text/x-python",
   "name": "python",
   "nbconvert_exporter": "python",
   "pygments_lexer": "ipython3",
   "version": "3.9.13"
  }
 },
 "nbformat": 4,
 "nbformat_minor": 5
}
