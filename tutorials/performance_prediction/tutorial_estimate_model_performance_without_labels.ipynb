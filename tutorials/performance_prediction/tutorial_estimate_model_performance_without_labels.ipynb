{
 "cells": [
  {
   "cell_type": "markdown",
   "id": "1af1aeef",
   "metadata": {},
   "source": [
    "# Estimating Model Performance Without Labels\n",
    "\n",
    "In this notebook we show how we can use the `PerformancePredictor` class from mercury.monitoring in order to estimate the performance of a model on unlabeled data. For example, it can be used to monitor model performance in production data when we still don't have the real labels.\n",
    "\n",
    "The method is based on the paper [Learning to Validate the Predictions of Black Box Classifiers on Unseen Data](https://ssc.io/pdf/mod0077s.pdf). In a nutshell, the steps of the method are:\n",
    "\n",
    "1. Apply corruptions to a held-out (labeled) dataset\n",
    "2. Obtain percentiles of model outputs and the performance of the model when applying these corruptions\n",
    "3. Train a regressor model to predict model performance. The samples to train this model are the percentiles and performances of the model obtained in 2.\n",
    "4. Use the trained regressor to estimate the performance on serving unlabeled data\n",
    "\n",
    "According to the paper, the method works well when: 1) We have a situation of covariate shift (changes in input data distributions) and 2) We know in advance what kind of covariate shift we can find in our serving data\n",
    "\n",
    "However, in our experiments we have found that in some situations the method still works fine when the data also suffers from label shift. At the same time, it's important to mention that the method is not 100% accurate and cannot detect performance drops in all cases. Therefore, we believe that it can be useful as one more signal to monitor in the scenarios  where we do not have labels in the short term (for example to trigger model retraining) but not as a accurate metric for reporting."
   ]
  },
  {
   "cell_type": "code",
   "execution_count": 1,
   "id": "e74178f8",
   "metadata": {},
   "outputs": [],
   "source": [
    "import numpy as np\n",
    "import pandas as pd\n",
    "from sklearn import preprocessing\n",
    "\n",
    "from matplotlib import pyplot as plt\n",
    "import seaborn as sns\n",
    "\n",
    "SEED = 123"
   ]
  },
  {
   "cell_type": "markdown",
   "id": "1ac34a9e",
   "metadata": {},
   "source": [
    "Next, we will show 3 experiments:\n",
    "\n",
    "\n",
    "[Experiment 1: Synthetic Dataset (MultiClass Classification)](#experiment_1)\n",
    "\n",
    "[Experiment 2: High Quality Wines Prediction (Binary Classification)](#experiment_2)\n",
    "\n",
    "[Experiment 3: Regression in synthetic Dataset](#experiment_3)"
   ]
  },
  {
   "cell_type": "markdown",
   "id": "587c1858",
   "metadata": {},
   "source": [
    "<a id=\"experiment_1\"></a>\n",
    "## Experiment 1: Synthetic Dataset (MultiClass Classification)\n",
    "\n",
    "This experiment will show how the method works by using a synthetic dataset for multiclass classification. This will be useful for illustration purposes. Note that in this experiment we will manually specify the possible data shifts that our dataset may experience in our serving data (more about this latter). This will be different from experiment 2, where data shifts will be automatically set from detection drift in serving data"
   ]
  },
  {
   "cell_type": "markdown",
   "id": "a5150d35",
   "metadata": {},
   "source": [
    "### Create Dataset\n",
    "\n",
    "Let's create a dataset with 3 possible classes as labels:"
   ]
  },
  {
   "cell_type": "code",
   "execution_count": 2,
   "id": "8ede7f56",
   "metadata": {},
   "outputs": [],
   "source": [
    "from sklearn.datasets import make_classification\n",
    "X, y = make_classification(\n",
    "    n_samples=10_000, n_features=3, n_informative=3, n_redundant=0, n_classes=3, random_state=SEED\n",
    ")\n",
    "X = pd.DataFrame(X, columns=[\"f\" + str(i) for i in range(X.shape[1])])"
   ]
  },
  {
   "cell_type": "markdown",
   "id": "3014105d",
   "metadata": {},
   "source": [
    "We split the dataset in Source and Serving sets. Source will be used to train the model, evaluating, and to fit our performance predictor. Serving will be used to simulate the serving data and use or performance predictor on it."
   ]
  },
  {
   "cell_type": "code",
   "execution_count": 3,
   "id": "cb0b75a9",
   "metadata": {},
   "outputs": [],
   "source": [
    "from sklearn.model_selection import train_test_split\n",
    "X_source, X_serving, y_source, y_serving = train_test_split(X, y, test_size=0.4, random_state=SEED)"
   ]
  },
  {
   "cell_type": "markdown",
   "id": "3ace276b",
   "metadata": {},
   "source": [
    "We further split the serving set in 4. We will introduce some data drift in the last 3 sets."
   ]
  },
  {
   "cell_type": "code",
   "execution_count": 4,
   "id": "180a3b01",
   "metadata": {},
   "outputs": [],
   "source": [
    "X_serving_1 = X_serving.iloc[0:1000].copy()\n",
    "X_serving_2 = X_serving.iloc[1000:2000].copy()\n",
    "X_serving_3 = X_serving.iloc[2000:3000].copy()\n",
    "X_serving_4 = X_serving.iloc[3000:4000].copy()\n",
    "\n",
    "y_serving_1 = y_serving[0:1000]\n",
    "y_serving_2 = y_serving[1000:2000]\n",
    "y_serving_3 = y_serving[2000:3000]\n",
    "y_serving_4 = y_serving[3000:4000]"
   ]
  },
  {
   "cell_type": "markdown",
   "id": "5388f6c0",
   "metadata": {},
   "source": [
    "A way to introduce drift in datasets is to use the `BatchDriftGenerator` component.\n",
    "\n"
   ]
  },
  {
   "cell_type": "code",
   "execution_count": 5,
   "id": "5baa7779",
   "metadata": {},
   "outputs": [],
   "source": [
    "from mercury.monitoring.drift.drift_simulation import BatchDriftGenerator\n",
    "\n",
    "# Shift Drift in Feature f0 in X_serving_2\n",
    "sim = BatchDriftGenerator(X_serving_2.copy()).shift_drift(cols=[\"f0\"], force=5.0, noise=1.0)\n",
    "X_serving_2 = sim.data.copy()\n",
    "\n",
    "# Scale Drift in Feature f1 in X_serving_3\n",
    "sim = BatchDriftGenerator(X_serving_3.copy()).scale_drift(cols=[\"f1\"], mean=5.0, sd=0.05)\n",
    "X_serving_3 = sim.data.copy()\n",
    "\n",
    "# Outliers in Feature f2 in X_serving_4\n",
    "sim = BatchDriftGenerator(X_serving_4.copy()).outliers_drift(\n",
    "    cols=[\"f2\"], method=\"percentile\", method_params={'percentile': 0.99, 'proportion_outliers': 0.25})\n",
    "X_serving_4 = sim.data.copy()"
   ]
  },
  {
   "cell_type": "markdown",
   "id": "0e2a2bce",
   "metadata": {},
   "source": [
    "### Train Model\n",
    "\n",
    "Now, let's split the source set. We will keep a held-out dataset to evaluate the dataset and train the `PerformancePredictor`"
   ]
  },
  {
   "cell_type": "code",
   "execution_count": 6,
   "id": "b1ded73e",
   "metadata": {},
   "outputs": [],
   "source": [
    "X_train, X_test, y_train, y_test = train_test_split(X_source, y_source, test_size=0.3, random_state=SEED)"
   ]
  },
  {
   "cell_type": "code",
   "execution_count": 7,
   "id": "fcc4feb2",
   "metadata": {},
   "outputs": [],
   "source": [
    "from sklearn.ensemble import RandomForestClassifier\n",
    "\n",
    "model = RandomForestClassifier(max_depth=5, n_estimators=20, random_state=SEED)\n",
    "model = model.fit(X_train, y_train)"
   ]
  },
  {
   "cell_type": "code",
   "execution_count": 8,
   "id": "88f507ff",
   "metadata": {},
   "outputs": [
    {
     "name": "stdout",
     "output_type": "stream",
     "text": [
      "0.8116666666666666  -  0.7977777777777778\n"
     ]
    }
   ],
   "source": [
    "from sklearn.metrics import accuracy_score\n",
    "\n",
    "acc_train = accuracy_score(y_train, model.predict(X_train))\n",
    "acc_test = accuracy_score(y_test, model.predict(X_test))\n",
    "\n",
    "print(acc_train, \" - \", acc_test)"
   ]
  },
  {
   "cell_type": "markdown",
   "id": "45993ce5",
   "metadata": {},
   "source": [
    "### Apply Performance Predictor\n",
    "\n",
    "Now, it's time to apply our `PerformancePredictor`"
   ]
  },
  {
   "cell_type": "markdown",
   "id": "7b756e5c",
   "metadata": {},
   "source": [
    "<b> Define possible Expected Corruptions </b>\n",
    "\n",
    "As we were mentioning, in this experiment we will define corruptions of the dataset that we think that could happen in our serving data. This will be different from experiment 2, where the corruptions will be automatically generated. By specifying the corruptions similar to what then happens in our serving data the method will be able to make a better estimation of the model performance.\n",
    "\n",
    "In order to specify the corruptions, we need to specify a list of tuples where each element is a corruption specified by:\n",
    "\n",
    "1. A string with the type of drift to apply \n",
    "2. A dictionary with the parameters of the drift to apply.\n",
    "\n",
    "For the first element, the type of drift you can use any method available in `BatchDriftGenerator` class. In the second element, the parameters are the arguments of the drift function, for example, for 'shift_drift' we have `cols`, `force` and `noise`\n",
    "\n",
    "In this case, we define `shift_drift` for 'f0', `scale_drift` for 'f1' and `outliers_drift` for 'f2', which corresponds to the drift that we applied before on our Serving sets"
   ]
  },
  {
   "cell_type": "code",
   "execution_count": 9,
   "id": "edd296e9",
   "metadata": {},
   "outputs": [],
   "source": [
    "corruptions = [\n",
    "    ('shift_drift', {'cols': ['f0'], 'force': 0.0, 'noise': 0.01}),\n",
    "    ('shift_drift', {'cols': ['f0'], 'force': 0.2, 'noise': 0.05}),\n",
    "    ('shift_drift', {'cols': ['f0'], 'force': 1.0, 'noise': 0.1}),\n",
    "    ('shift_drift', {'cols': ['f0'], 'force': 2.0, 'noise': 0.1}),\n",
    "    ('shift_drift', {'cols': ['f0'], 'force': 5.0, 'noise': 0.1}),\n",
    "    ('shift_drift', {'cols': ['f0'], 'force': 10.0, 'noise': 0.1}),\n",
    "    ('shift_drift', {'cols': ['f0'], 'force': 15.0, 'noise': 0.1}),\n",
    "    ('shift_drift', {'cols': ['f0'], 'force': 20.0, 'noise': 0.1}),\n",
    "    ('scale_drift', {'cols': ['f1'], 'mean': 0.1, 'sd': 0.01}),\n",
    "    ('scale_drift', {'cols': ['f1'], 'mean': 0.5, 'sd': 0.01}),\n",
    "    ('scale_drift', {'cols': ['f1'], 'mean': 0.7, 'sd': 0.01}),\n",
    "    ('scale_drift', {'cols': ['f1'], 'mean': 0.9, 'sd': 0.01}),\n",
    "    ('scale_drift', {'cols': ['f1'], 'mean': 1.1, 'sd': 0.01}),\n",
    "    ('scale_drift', {'cols': ['f1'], 'mean': 1.3, 'sd': 0.01}),\n",
    "    ('scale_drift', {'cols': ['f1'], 'mean': 1.5, 'sd': 0.01}),\n",
    "    ('scale_drift', {'cols': ['f1'], 'mean': 2.0, 'sd': 0.01}),\n",
    "    ('scale_drift', {'cols': ['f1'], 'mean': 3.0, 'sd': 0.01}),\n",
    "    ('scale_drift', {'cols': ['f1'], 'mean': 4.0, 'sd': 0.01}),\n",
    "    ('scale_drift', {'cols': ['f1'], 'mean': 5.0, 'sd': 0.01}),\n",
    "    ('scale_drift', {'cols': ['f1'], 'mean': 10.0, 'sd': 0.01}),\n",
    "    ('outliers_drift', {'cols': ['f2'], 'method': 'percentile', 'method_params': {'proportion_outliers': 0.15}}),\n",
    "    ('outliers_drift', {'cols': ['f2'], 'method': 'percentile', 'method_params': {'proportion_outliers': 0.20}}),\n",
    "    ('outliers_drift', {'cols': ['f2'], 'method': 'percentile', 'method_params': {'proportion_outliers': 0.25}}),\n",
    "    ('outliers_drift', {'cols': ['f2'], 'method': 'percentile', 'method_params': {'proportion_outliers': 0.35}}),\n",
    "    ('outliers_drift', {'cols': ['f2'], 'method': 'percentile', 'method_params': {'proportion_outliers': 0.40}}),\n",
    "    ('outliers_drift', {'cols': ['f2'], 'method': 'percentile', 'method_params': {'proportion_outliers': 0.50}}),\n",
    "    ('outliers_drift', {'cols': ['f2'], 'method': 'percentile', 'method_params': {'proportion_outliers': 0.60}}),\n",
    "]"
   ]
  },
  {
   "cell_type": "markdown",
   "id": "ffa0226a",
   "metadata": {},
   "source": [
    "Let's create the `PerformancePredictor`. We specify the model, the metric that we want to estimate (accuracy in this case), the corruptions that we defined, and the optional `random_state`. The are other optional arguments that you can specify: for example you can specify a `performance_predictor` in order to use a different model as performance predictor regressor (by default it uses a `RandomForestRegressor`). You can check the class documention for more details.\n"
   ]
  },
  {
   "cell_type": "code",
   "execution_count": 10,
   "id": "611adf78",
   "metadata": {},
   "outputs": [],
   "source": [
    "from mercury.monitoring.estimation.performance_predictor import PerformancePredictor\n",
    "performance_predictor = PerformancePredictor(\n",
    "    model, \n",
    "    metric_fn=accuracy_score, \n",
    "    corruptions=corruptions,\n",
    "    random_state=SEED\n",
    ")"
   ]
  },
  {
   "cell_type": "markdown",
   "id": "f832ceb9",
   "metadata": {},
   "source": [
    "We use our test dataset to fit our performance predictor. Corruptions will be applied on this dataset"
   ]
  },
  {
   "cell_type": "code",
   "execution_count": 11,
   "id": "bf466a41",
   "metadata": {},
   "outputs": [
    {
     "data": {
      "text/plain": [
       "<mercury.monitoring.estimation.performance_predictor.PerformancePredictor at 0x158970f70>"
      ]
     },
     "execution_count": 11,
     "metadata": {},
     "output_type": "execute_result"
    }
   ],
   "source": [
    "performance_predictor.fit(X=X_test, y=y_test)"
   ]
  },
  {
   "cell_type": "markdown",
   "id": "7b647de7",
   "metadata": {},
   "source": [
    "Now, let's predict the performance in all serving datasets and compare with the real performance "
   ]
  },
  {
   "cell_type": "code",
   "execution_count": 12,
   "id": "0601f546",
   "metadata": {},
   "outputs": [
    {
     "data": {
      "text/html": [
       "<div>\n",
       "<style scoped>\n",
       "    .dataframe tbody tr th:only-of-type {\n",
       "        vertical-align: middle;\n",
       "    }\n",
       "\n",
       "    .dataframe tbody tr th {\n",
       "        vertical-align: top;\n",
       "    }\n",
       "\n",
       "    .dataframe thead th {\n",
       "        text-align: right;\n",
       "    }\n",
       "</style>\n",
       "<table border=\"1\" class=\"dataframe\">\n",
       "  <thead>\n",
       "    <tr style=\"text-align: right;\">\n",
       "      <th></th>\n",
       "      <th>real_acc</th>\n",
       "      <th>predicted_acc</th>\n",
       "    </tr>\n",
       "  </thead>\n",
       "  <tbody>\n",
       "    <tr>\n",
       "      <th>0</th>\n",
       "      <td>0.797</td>\n",
       "      <td>0.792426</td>\n",
       "    </tr>\n",
       "    <tr>\n",
       "      <th>1</th>\n",
       "      <td>0.512</td>\n",
       "      <td>0.518296</td>\n",
       "    </tr>\n",
       "    <tr>\n",
       "      <th>2</th>\n",
       "      <td>0.693</td>\n",
       "      <td>0.665889</td>\n",
       "    </tr>\n",
       "    <tr>\n",
       "      <th>3</th>\n",
       "      <td>0.704</td>\n",
       "      <td>0.780926</td>\n",
       "    </tr>\n",
       "  </tbody>\n",
       "</table>\n",
       "</div>"
      ],
      "text/plain": [
       "   real_acc  predicted_acc\n",
       "0     0.797       0.792426\n",
       "1     0.512       0.518296\n",
       "2     0.693       0.665889\n",
       "3     0.704       0.780926"
      ]
     },
     "execution_count": 12,
     "metadata": {},
     "output_type": "execute_result"
    }
   ],
   "source": [
    "predicted_acc_1 = performance_predictor.predict(X_serving_1)[0]\n",
    "predicted_acc_2 = performance_predictor.predict(X_serving_2)[0]\n",
    "predicted_acc_3 = performance_predictor.predict(X_serving_3)[0]\n",
    "predicted_acc_4 = performance_predictor.predict(X_serving_4)[0]\n",
    "\n",
    "real_acc_1 = accuracy_score(y_serving_1, model.predict(X_serving_1))\n",
    "real_acc_2 = accuracy_score(y_serving_2, model.predict(X_serving_2))\n",
    "real_acc_3 = accuracy_score(y_serving_3, model.predict(X_serving_3))\n",
    "real_acc_4 = accuracy_score(y_serving_4, model.predict(X_serving_4))\n",
    "\n",
    "predicted_acc_all = [predicted_acc_1, predicted_acc_2, predicted_acc_3, predicted_acc_4]\n",
    "real_acc_all = [real_acc_1, real_acc_2, real_acc_3, real_acc_4]\n",
    "df_acc = pd.DataFrame.from_dict({'real_acc': real_acc_all, 'predicted_acc': predicted_acc_all})\n",
    "df_acc"
   ]
  },
  {
   "cell_type": "code",
   "execution_count": 13,
   "id": "74598213",
   "metadata": {},
   "outputs": [
    {
     "data": {
      "image/png": "[encoded data removed]",
      "text/plain": [
       "<Figure size 600x400 with 1 Axes>"
      ]
     },
     "metadata": {},
     "output_type": "display_data"
    }
   ],
   "source": [
    "# data to plot\n",
    "real_performance = df_acc.real_acc.values\n",
    "predicted_performance = df_acc.predicted_acc.values\n",
    "\n",
    "# create plot\n",
    "fig, ax = plt.subplots(figsize=(6, 4))\n",
    "index = np.arange(len(real_performance))\n",
    "bar_width = 0.30\n",
    "\n",
    "bar1 = plt.bar(index, real_performance, bar_width, alpha=0.6, label='Real Performance')\n",
    "bar2 = plt.bar(index + bar_width, predicted_performance, bar_width,alpha=0.6, label='Predicted Performance')\n",
    "\n",
    "plt.ylabel('Performance')\n",
    "plt.title('Performance by subset')\n",
    "plt.xticks(index + bar_width, ('Serving_1', 'Serving_2', 'Serving_3', 'Serving_4'))\n",
    "plt.legend()\n",
    "\n",
    "plt.tight_layout()\n",
    "plt.show()"
   ]
  },
  {
   "cell_type": "markdown",
   "id": "e1c017e1",
   "metadata": {},
   "source": [
    "As we see, in this case the performance is not predicted exactly, but the method is able to detect some performance drops"
   ]
  },
  {
   "cell_type": "markdown",
   "id": "585b2797",
   "metadata": {},
   "source": [
    "<a id=\"experiment_2\"></a>\n",
    "## Experiment 2: High Quality Wines Prediction (Binary Classification)\n",
    "\n",
    "\n",
    "Now we will apply the method to the wine quality dataset [[1]](#[1]) dataset. The files of this dataset are available inside of the /data/winequality folder in tutorials and it is also available in the [UCI ML repository](https://archive.ics.uci.edu/ml/datasets/wine+quality) \n",
    "\n",
    "In this dataset, each row of the dataset represents a different wine and it contains attributes like the acidity of the wine or the level of alcohol. The dataset also contains the quality of the wine, ranging from 0 to 10. We convert this quality to an integer to indicate if it is a high-quality wine or not. We suppose that we have the goal of building a model to predict if a wine will be a high-quality wine given its attributes.\n",
    "\n",
    "Importantly, we will introduce drift in this dataset. We will do that by creating a time column and gradually changing the a amount of wines with a high level of alcohol.\n",
    "\n",
    "An important difference from this experiment is that we don't specify the corruptions manually. We will let the method to generate the corruptions by itself by looking at the serving data and creating the corruptions by detecting variables with drift.\n"
   ]
  },
  {
   "cell_type": "markdown",
   "id": "8c8d662c",
   "metadata": {},
   "source": [
    "### Load and Prepare Dataset\n"
   ]
  },
  {
   "cell_type": "code",
   "execution_count": 14,
   "id": "2967016a",
   "metadata": {},
   "outputs": [],
   "source": [
    "df_red_wines = pd.read_csv(\"../data/winequality/winequality-red.csv\")\n",
    "df_white_wines = pd.read_csv(\"../data/winequality/winequality-white.csv\")\n",
    "\n",
    "df_red_wines[\"type\"] = \"red\"\n",
    "df_white_wines[\"type\"] = \"white\"\n",
    "\n",
    "df = pd.concat([df_red_wines, df_white_wines])"
   ]
  },
  {
   "cell_type": "markdown",
   "id": "e00bbbed",
   "metadata": {},
   "source": [
    "Now, we create some data drift in the dataset. As we mentioned, we gradually increase the number of wines with high level of alcohol over time:"
   ]
  },
  {
   "cell_type": "code",
   "execution_count": 15,
   "id": "584a478e",
   "metadata": {},
   "outputs": [],
   "source": [
    "# Create id\n",
    "df[\"id\"] = np.arange(df.shape[0])\n",
    "\n",
    "# Encode Label\n",
    "df[\"quality\"] = df[\"quality\"].apply(lambda x: 1 if x >=7 else 0)\n",
    "\n",
    "# Encode Type\n",
    "le = preprocessing.LabelEncoder()\n",
    "df[\"type\"] = le.fit_transform(df[\"type\"])\n",
    "\n",
    "# Set attribute to indicate high alcohol\n",
    "df[\"high_alcohol\"] = df[\"alcohol\"].apply(lambda x: True if x > 11 else False)\n",
    "\n",
    "# Time will represent the moment we have that data\n",
    "df[\"time\"] = -1\n",
    "\n",
    "# For those rows with high alcohol, we set 70% of them as time 0 (they will be used as training)\n",
    "df[\"time\"] = df.apply(\n",
    "    lambda x: 0 if (x[\"high_alcohol\"] == False) and (np.random.uniform() < 0.7) else -1, axis=1\n",
    " )\n",
    "\n",
    "# Each timestep, new amount of samples low_alcohol and high_alcohol\n",
    "n_samples_low_alcohol = [250, 245, 230, 210, 180, 140, 30]\n",
    "n_samples_high_alcohol = [0, 5, 10, 20, 40, 80, 160]\n",
    "max_timesteps = 7\n",
    "for t in range(1, max_timesteps + 1):\n",
    "    # Sample examples with high_alcohol == True\n",
    "    n_samples = n_samples_high_alcohol[t-1]\n",
    "    sampled_ids = df[(df[\"time\"] == -1) & (df[\"high_alcohol\"] == True)].sample(\n",
    "        n_samples, random_state=2021)[\"id\"].values\n",
    "    df.loc[df[\"id\"].isin(sampled_ids), \"time\"] = t\n",
    "    # Sample examples with high_alcohol == False\n",
    "    n_samples = n_samples_low_alcohol[t-1]\n",
    "    sampled_ids = df[(df[\"time\"] == -1) & (df[\"high_alcohol\"] == False)].sample(\n",
    "        n_samples, random_state=2021)[\"id\"].values\n",
    "    df.loc[df[\"id\"].isin(sampled_ids), \"time\"] = t"
   ]
  },
  {
   "cell_type": "markdown",
   "id": "e8e25da6",
   "metadata": {},
   "source": [
    "As we see, we see start with zero wines of high level of alcohol and we end up with more wines of high level of alcohol than low level:"
   ]
  },
  {
   "cell_type": "code",
   "execution_count": 16,
   "id": "e7e28f8a",
   "metadata": {},
   "outputs": [
    {
     "data": {
      "image/png": "[encoded data removed]",
      "text/plain": [
       "<Figure size 640x480 with 1 Axes>"
      ]
     },
     "metadata": {},
     "output_type": "display_data"
    }
   ],
   "source": [
    "sample_counts = df.groupby([\"time\", \"high_alcohol\"])[\"id\"].count().to_frame().reset_index()\n",
    "sample_counts = sample_counts.rename(columns={\"id\": \"count\"})\n",
    "sample_counts = sample_counts[sample_counts[\"time\"] > 0]\n",
    "ax = sns.lineplot(x=\"time\", y=\"count\", hue=\"high_alcohol\", data=sample_counts)"
   ]
  },
  {
   "cell_type": "markdown",
   "id": "af190712",
   "metadata": {},
   "source": [
    "Note that by introducing this data drift, we unintentionally introduced label shift: the proportion of wines of high quality increases considerably in the last time steps:"
   ]
  },
  {
   "cell_type": "code",
   "execution_count": 17,
   "id": "b0127631",
   "metadata": {},
   "outputs": [
    {
     "data": {
      "image/png": "[encoded data removed]",
      "text/plain": [
       "<Figure size 640x480 with 1 Axes>"
      ]
     },
     "metadata": {},
     "output_type": "display_data"
    }
   ],
   "source": [
    "sample_counts = df.groupby([\"time\", \"quality\"])[\"id\"].count().to_frame().reset_index()\n",
    "sample_counts = sample_counts.rename(columns={\"id\": \"count\"})\n",
    "sample_counts = sample_counts[sample_counts[\"time\"] > 0]\n",
    "ax = sns.lineplot(x=\"time\", y=\"count\", hue=\"quality\", data=sample_counts)"
   ]
  },
  {
   "cell_type": "markdown",
   "id": "569baf33",
   "metadata": {},
   "source": [
    "This makes the performance prediction more challenging"
   ]
  },
  {
   "cell_type": "markdown",
   "id": "ab2220db",
   "metadata": {},
   "source": [
    "### Train Model\n",
    "\n",
    "We will use the data from timestep 0 to train the model"
   ]
  },
  {
   "cell_type": "code",
   "execution_count": 18,
   "id": "d411c913",
   "metadata": {},
   "outputs": [
    {
     "name": "stdout",
     "output_type": "stream",
     "text": [
      "(3118, 16)\n",
      "(1600, 16)\n"
     ]
    }
   ],
   "source": [
    "df_source = df[df[\"time\"] == 0]\n",
    "df_serving = df[df[\"time\"] > 0]\n",
    "\n",
    "print(df_source.shape)\n",
    "print(df_serving.shape)"
   ]
  },
  {
   "cell_type": "markdown",
   "id": "60be65d2",
   "metadata": {},
   "source": [
    "Now, let's split the source set. We will keep a held-out dataset to evaluate the dataset and train the `PerformancePredictor`"
   ]
  },
  {
   "cell_type": "code",
   "execution_count": 19,
   "id": "d2ccc013",
   "metadata": {},
   "outputs": [],
   "source": [
    "from sklearn.model_selection import train_test_split\n",
    "\n",
    "df_train, df_test = train_test_split(df_source, test_size=0.3, random_state=SEED)"
   ]
  },
  {
   "cell_type": "code",
   "execution_count": 20,
   "id": "29ba3b26",
   "metadata": {},
   "outputs": [],
   "source": [
    "features = [\n",
    "    'fixed acidity', 'volatile acidity', 'citric acid', 'residual sugar',\n",
    "    'chlorides', 'free sulfur dioxide', 'total sulfur dioxide', 'density',\n",
    "    'pH', 'sulphates', 'alcohol'\n",
    "]\n",
    "label = \"quality\""
   ]
  },
  {
   "cell_type": "markdown",
   "id": "4a9b478f",
   "metadata": {},
   "source": [
    "In this case, we will train 3 models, so we can compare latter if the performance of the model is accurately predicted in all of them"
   ]
  },
  {
   "cell_type": "code",
   "execution_count": 21,
   "id": "abaa8be8",
   "metadata": {},
   "outputs": [],
   "source": [
    "from sklearn.pipeline import Pipeline\n",
    "from sklearn.preprocessing import StandardScaler\n",
    "from sklearn.linear_model import LogisticRegression\n",
    "from sklearn.ensemble import RandomForestClassifier\n",
    "from sklearn.tree import DecisionTreeClassifier\n",
    "\n",
    "m1 = Pipeline(\n",
    "    steps=[\n",
    "        (\"preprocessor\", StandardScaler()),\n",
    "        (\"classifier\", LogisticRegression(class_weight='balanced', random_state=SEED))\n",
    "    ]\n",
    ")\n",
    "m2 = RandomForestClassifier(max_depth=8, min_samples_split=5, class_weight='balanced', random_state=SEED)\n",
    "\n",
    "m3 = DecisionTreeClassifier(max_depth=5, min_samples_split=8, class_weight='balanced', random_state=SEED)\n",
    "\n",
    "m1 = m1.fit(df_train[features], df_train[label].values)\n",
    "m2 = m2.fit(df_train[features], df_train[label].values)\n",
    "m3 = m3.fit(df_train[features], df_train[label].values)"
   ]
  },
  {
   "cell_type": "code",
   "execution_count": 22,
   "id": "113d65c0",
   "metadata": {},
   "outputs": [
    {
     "name": "stdout",
     "output_type": "stream",
     "text": [
      "0.6681943171402384  -  0.6901709401709402\n",
      "0.96012832263978  -  0.8931623931623932\n",
      "0.6956920256645279  -  0.6399572649572649\n"
     ]
    }
   ],
   "source": [
    "from sklearn.metrics import accuracy_score\n",
    "\n",
    "acc_train_m1 = accuracy_score(df_train[label].values, m1.predict(df_train[features]))\n",
    "acc_train_m2 = accuracy_score(df_train[label].values, m2.predict(df_train[features]))\n",
    "acc_train_m3 = accuracy_score(df_train[label].values, m3.predict(df_train[features]))\n",
    "\n",
    "acc_test_m1 = accuracy_score(df_test[label].values, m1.predict(df_test[features]))\n",
    "acc_test_m2 = accuracy_score(df_test[label].values, m2.predict(df_test[features]))\n",
    "acc_test_m3 = accuracy_score(df_test[label].values, m3.predict(df_test[features]))\n",
    "\n",
    "print(acc_train_m1, \" - \", acc_test_m1)\n",
    "print(acc_train_m2, \" - \", acc_test_m2)\n",
    "print(acc_train_m3, \" - \", acc_test_m3)"
   ]
  },
  {
   "cell_type": "markdown",
   "id": "3f0242ba",
   "metadata": {},
   "source": [
    "### Apply Performance Predictor\n",
    "\n",
    "Now, let's apply the `PerformancePredictor` to estimate the performance of the three models in all timesteps. In this case, we do not specify the corruptions as we did in experiment 1.\n",
    "\n",
    "Note that now, when calling the `fit` method in the `PerformancePredictor` we specify the serving dataset (for that timestep). That will make that corruptions will be added according to the data drift detected between the held-out set specified (`X` argument) and the serving dataset (`X_serving` argument). If no data drift is detected, a set of default corruptions are generated (you will see some warnings for this reason)."
   ]
  },
  {
   "cell_type": "code",
   "execution_count": 24,
   "id": "91c4c007",
   "metadata": {
    "scrolled": true
   },
   "outputs": [
    {
     "name": "stdout",
     "output_type": "stream",
     "text": [
      "CPU times: user 1min 14s, sys: 7.35 s, total: 1min 21s\n",
      "Wall time: 56.4 s\n"
     ]
    }
   ],
   "source": [
    "%%time\n",
    "from mercury.monitoring.estimation.performance_predictor import PerformancePredictor\n",
    "\n",
    "real_accs_m1 = []\n",
    "real_accs_m2 = []\n",
    "real_accs_m3 = []\n",
    "predicted_accs_m1 = []\n",
    "predicted_accs_m2 = []\n",
    "predicted_accs_m3 = []\n",
    "for t in range(1,8):\n",
    "\n",
    "    X_serving = df_serving[df_serving[\"time\"] == t][features]\n",
    "    y_serving = df_serving[df_serving[\"time\"] == t][label].values\n",
    "\n",
    "    # Create PerfomancePredictor\n",
    "    performance_predictor_m1 = PerformancePredictor(m1, metric_fn=accuracy_score, random_state=SEED)\n",
    "    performance_predictor_m2 = PerformancePredictor(m2, metric_fn=accuracy_score, random_state=SEED)\n",
    "    performance_predictor_m3 = PerformancePredictor(m3, metric_fn=accuracy_score, random_state=SEED)\n",
    "    \n",
    "    # Fit\n",
    "    performance_predictor_m1.fit(X=df_test[features], y=df_test[label], X_serving=X_serving)\n",
    "    performance_predictor_m2.fit(X=df_test[features], y=df_test[label], X_serving=X_serving)\n",
    "    performance_predictor_m3.fit(X=df_test[features], y=df_test[label], X_serving=X_serving)\n",
    "    \n",
    "    # Predict performance\n",
    "    predicted_acc_m1 = performance_predictor_m1.predict(X_serving)\n",
    "    predicted_acc_m2 = performance_predictor_m2.predict(X_serving)\n",
    "    predicted_acc_m3 = performance_predictor_m3.predict(X_serving)\n",
    "    \n",
    "    # Real performance\n",
    "    real_acc_m1= accuracy_score(y_serving, m1.predict(X_serving))\n",
    "    real_acc_m2= accuracy_score(y_serving, m2.predict(X_serving))\n",
    "    real_acc_m3= accuracy_score(y_serving, m3.predict(X_serving))\n",
    "\n",
    "    # ADD TO LIST\n",
    "    real_accs_m1.append(real_acc_m1)\n",
    "    real_accs_m2.append(real_acc_m2)\n",
    "    real_accs_m3.append(real_acc_m3)\n",
    "    predicted_accs_m1.append(predicted_acc_m1)\n",
    "    predicted_accs_m2.append(predicted_acc_m2)\n",
    "    predicted_accs_m3.append(predicted_acc_m3)"
   ]
  },
  {
   "cell_type": "markdown",
   "id": "c0224b17",
   "metadata": {},
   "source": [
    "Let's plot a chart to compare the estimated with the real accuracy for each model:"
   ]
  },
  {
   "cell_type": "code",
   "execution_count": 25,
   "id": "df5da8fd",
   "metadata": {},
   "outputs": [
    {
     "data": {
      "image/png": "[encoded data removed]",
      "text/plain": [
       "<Figure size 1500x500 with 3 Axes>"
      ]
     },
     "metadata": {},
     "output_type": "display_data"
    }
   ],
   "source": [
    "fig, axs = plt.subplots(1, 3, figsize=(15, 5), sharey=True)\n",
    "\n",
    "timesteps = list(range(1,8))\n",
    "axs[0].plot(timesteps, real_accs_m1, label=\"real_acc\", marker=\".\")\n",
    "axs[0].plot(timesteps, predicted_accs_m1, label=\"predicted_acc\", marker=\".\")\n",
    "axs[0].set_title(\"Real vs Pred. Acc. M1 (LR)\", size=12, loc='center')\n",
    "\n",
    "axs[1].plot(timesteps, real_accs_m2, label=\"real_acc\", marker=\".\")\n",
    "axs[1].plot(timesteps, predicted_accs_m2, label=\"predicted_acc\", marker=\".\")\n",
    "axs[1].set_title(\"Real vs Pred. Acc. M2 (RF)\", size=12, loc='center')\n",
    "\n",
    "axs[2].plot(timesteps, real_accs_m3, label=\"real_acc\", marker=\".\")\n",
    "axs[2].plot(timesteps, predicted_accs_m3, label=\"predicted_acc\", marker=\".\")\n",
    "axs[2].set_title(\"Real vs Pred. Acc. M3 (DT)\", size=12, loc='center')\n",
    "\n",
    "for ax in axs.flat:\n",
    "    ax.set(xlabel='timestep', ylabel='Accuracy')\n",
    "    ax.grid()\n",
    "    ax.legend()"
   ]
  },
  {
   "cell_type": "markdown",
   "id": "3281a603",
   "metadata": {},
   "source": [
    "We see:\n",
    "\n",
    "- M1 (Logistic Regression): The predicted accuracy is often worse than the real accuracy. Although the predicted accuracy doesn't match exactly the real accuracy, the patterns increase/decrease seem correct. In this case, the method would be useful to realize that our model performance is degrading\n",
    "- M2 (Random Forest): This is the case where method seems to be less useful, since there is a big drop on accuracy in the last time step which is not predicted by the `PerformancePredictor`.\n",
    "- M3 (Decision Tree): As in the M1, the predicted accuracy is similar than the real accuracy.\n",
    "\n",
    "In further analysis for the M2 case, we discovered that the accuracies when applying the corruptions never suffer from high performance drops, which makes the regressor task to predict future performance drops very difficult. The label predictions of M2 seem to be more stable in this model, which in a label shift scenario might make the model suffer a performance drop. Since this label shift is not represented in the corruptions and the predictions are stable, the `PerformancePredictor` is not able to predict the performance drop"
   ]
  },
  {
   "cell_type": "markdown",
   "id": "01efb1cb",
   "metadata": {},
   "source": [
    "<a id=\"experiment_3\"></a>\n",
    "## Experiment 3: Regression in synthetic Dataset\n",
    "\n",
    "In this last experiment, we show that the method can be used also in a regression task. Furthermore, we will introduce a categorical variable and use a previously created `DataSchema`"
   ]
  },
  {
   "cell_type": "markdown",
   "id": "7931b017",
   "metadata": {},
   "source": [
    "### Create Dataset\n",
    "\n",
    "Let's create a regression dataset using `make_regression`. We will create also an uncorrelated feature \"f2\" with 3 possible values"
   ]
  },
  {
   "cell_type": "code",
   "execution_count": 26,
   "id": "23cbb9d4",
   "metadata": {},
   "outputs": [],
   "source": [
    "from sklearn.datasets import make_regression\n",
    "X, y = make_regression(1000, n_features=2, n_informative=2, random_state=SEED)\n",
    "X = pd.DataFrame(X, columns=[\"f\" + str(i) for i in range(X.shape[1])])\n",
    "# Introduce Random categorical variable for illustration purposes\n",
    "X[\"f2\"] = np.random.choice([0, 1, 2], size=len(X))\n",
    "X_source, X_serving, y_source, y_serving = train_test_split(X, y, test_size=0.5, random_state=42)"
   ]
  },
  {
   "cell_type": "markdown",
   "id": "6a1e2194",
   "metadata": {},
   "source": [
    "Let's separate the serving dataset in two, and introduce data drift in Serving_2"
   ]
  },
  {
   "cell_type": "code",
   "execution_count": 27,
   "id": "d209b2b5",
   "metadata": {},
   "outputs": [],
   "source": [
    "# Split Serving and add Drift\n",
    "X_serving_1 = X_serving.iloc[0:250].copy()\n",
    "X_serving_2 = X_serving.iloc[250:].copy()\n",
    "y_serving_1 = y_serving[0:250]\n",
    "y_serving_2 = y_serving[250:]"
   ]
  },
  {
   "cell_type": "code",
   "execution_count": 28,
   "id": "52d59ad8",
   "metadata": {},
   "outputs": [],
   "source": [
    "from mercury.monitoring.drift.drift_simulation import BatchDriftGenerator\n",
    "\n",
    "# Shift Drift in Feature f0 in X_serving_2\n",
    "sim = BatchDriftGenerator(X_serving_2.copy()).shift_drift(cols=[\"f0\"], force=10.0, noise=1.0)\n",
    "X_serving_2 = sim.data.copy()"
   ]
  },
  {
   "cell_type": "markdown",
   "id": "b3c8a66d",
   "metadata": {},
   "source": [
    "### Train Model\n",
    "\n",
    "Now let's train the model"
   ]
  },
  {
   "cell_type": "code",
   "execution_count": 29,
   "id": "c51f19c3",
   "metadata": {},
   "outputs": [],
   "source": [
    "from sklearn.ensemble import RandomForestRegressor\n",
    "X_train, X_test, y_train, y_test = train_test_split(X_source, y_source, test_size=0.3, random_state=42)\n",
    "model = RandomForestRegressor(n_estimators=10, max_depth=5, random_state=42)\n",
    "model = model.fit(X_train, y_train)"
   ]
  },
  {
   "cell_type": "markdown",
   "id": "35b36f5d",
   "metadata": {},
   "source": [
    "### Performance Prediction"
   ]
  },
  {
   "cell_type": "markdown",
   "id": "be6a1e32",
   "metadata": {},
   "source": [
    "This time, since we have a categorical variable, we will create the `DataSchema` ourselves to ensure that \"f2\" is treated as categorical variable. This will make that later the `PerformancePredictor` will introduce special corruptions for categorical variables"
   ]
  },
  {
   "cell_type": "code",
   "execution_count": 30,
   "id": "0d439d2f",
   "metadata": {},
   "outputs": [],
   "source": [
    "from mercury.dataschema import DataSchema\n",
    "dataset_schema = DataSchema().generate_manual(\n",
    "    dataframe=X_train, \n",
    "    categ_columns=[\"f2\"], \n",
    "    discrete_columns=[], binary_columns=[])"
   ]
  },
  {
   "cell_type": "markdown",
   "id": "dee0d307",
   "metadata": {},
   "source": [
    "Let's create the `PerformancePredictor` object."
   ]
  },
  {
   "cell_type": "code",
   "execution_count": 31,
   "id": "533a07b1",
   "metadata": {},
   "outputs": [],
   "source": [
    "from sklearn.metrics import mean_absolute_error\n",
    "performance_predictor = PerformancePredictor(\n",
    "    model, metric_fn=mean_absolute_error, \n",
    "    #performance_predictor = RandomForestRegressor(criterion='mae', random_state=SEED)\n",
    ")"
   ]
  },
  {
   "cell_type": "markdown",
   "id": "d88ad915",
   "metadata": {},
   "source": [
    "Let's use the performance predictor. As in experiment 2, we specify the serving dataset so the corruptions are generated automatically:"
   ]
  },
  {
   "cell_type": "code",
   "execution_count": 32,
   "id": "1d980a46",
   "metadata": {},
   "outputs": [],
   "source": [
    "performance_predictor.fit(X=X_test, y=y_test, X_serving=X_serving_1, dataset_schema=dataset_schema)\n",
    "predicted_mae_1 = performance_predictor.predict(X_serving_1)[0]\n",
    "real_mae_1 = mean_absolute_error(y_serving_1, model.predict(X_serving_1))\n",
    "\n",
    "performance_predictor.fit(X=X_test, y=y_test, X_serving=X_serving_2, dataset_schema=dataset_schema)\n",
    "predicted_mae_2 = performance_predictor.predict(X_serving_2)[0]\n",
    "real_mae_2 = mean_absolute_error(y_serving_2, model.predict(X_serving_2))"
   ]
  },
  {
   "cell_type": "code",
   "execution_count": 33,
   "id": "1966adc1",
   "metadata": {},
   "outputs": [
    {
     "data": {
      "image/png": "[encoded data removed]",
      "text/plain": [
       "<Figure size 600x400 with 1 Axes>"
      ]
     },
     "metadata": {},
     "output_type": "display_data"
    }
   ],
   "source": [
    "# data to plot\n",
    "real_performance = [real_mae_1, real_mae_2]\n",
    "predicted_performance = [predicted_mae_1, predicted_mae_2]\n",
    "\n",
    "# create plot\n",
    "fig, ax = plt.subplots(figsize=(6, 4))\n",
    "index = np.arange(len(real_performance))\n",
    "bar_width = 0.30\n",
    "\n",
    "bar1 = plt.bar(index, real_performance, bar_width, alpha=0.6, label='Real Performance')\n",
    "bar2 = plt.bar(index + bar_width, predicted_performance, bar_width,alpha=0.6, label='Predicted Performance')\n",
    "\n",
    "plt.ylabel('Performance')\n",
    "plt.title('Performance by subset')\n",
    "plt.xticks(index + bar_width, ('Serving_1', 'Serving_2'))\n",
    "plt.legend()\n",
    "\n",
    "plt.tight_layout()\n",
    "plt.show()"
   ]
  },
  {
   "cell_type": "markdown",
   "id": "a0cc149c",
   "metadata": {},
   "source": [
    "As we see, the mean absolute error predicted in serving 2 is much higher and close to the real"
   ]
  },
  {
   "cell_type": "markdown",
   "id": "8996ade9",
   "metadata": {},
   "source": [
    "## Conclusions\n",
    "\n",
    "We have seen that the method can sometimes predict an approximation of the real performance of the model.\n",
    "\n",
    "However, we see that sometimes the performance is not 100% accurate and in some cases even can miss some big performance drops, as we saw in experiment 2 with model M2. This might happen in some cases where we experience different types of drift than covariate drift.\n",
    "\n",
    "We still think that the method can be useful in some cases and can be one more metric to monitor in our model when we do not have the labels instantly."
   ]
  },
  {
   "cell_type": "markdown",
   "id": "c22b8ec0",
   "metadata": {},
   "source": [
    "# References\n",
    "\n",
    "<a id=\"[1]\">[1]</a> \n",
    "P. Cortez, A. Cerdeira, F. Almeida, T. Matos and J. Reis.\n",
    "Modeling wine preferences by data mining from physicochemical properties. In Decision Support Systems, Elsevier, 47(4):547-553, 2009."
   ]
  },
  {
   "cell_type": "code",
   "execution_count": null,
   "id": "8fab87d3",
   "metadata": {},
   "outputs": [],
   "source": []
  }
 ],
 "metadata": {
  "kernelspec": {
   "display_name": "Python 3 (ipykernel)",
   "language": "python",
   "name": "python3"
  },
  "language_info": {
   "codemirror_mode": {
    "name": "ipython",
    "version": 3
   },
   "file_extension": ".py",
   "mimetype": "text/x-python",
   "name": "python",
   "nbconvert_exporter": "python",
   "pygments_lexer": "ipython3",
   "version": "3.9.13"
  }
 },
 "nbformat": 4,
 "nbformat_minor": 5
}
